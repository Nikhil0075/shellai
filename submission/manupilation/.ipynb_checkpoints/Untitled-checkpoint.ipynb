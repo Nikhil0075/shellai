{
 "cells": [
  {
   "cell_type": "code",
   "execution_count": 1,
   "id": "1c4b59cc",
   "metadata": {},
   "outputs": [],
   "source": [
    "import pandas as pd\n"
   ]
  },
  {
   "cell_type": "code",
   "execution_count": 2,
   "id": "073b1d99",
   "metadata": {},
   "outputs": [],
   "source": [
    "manu = pd.read_csv('solution_17.csv')"
   ]
  },
  {
   "cell_type": "code",
   "execution_count": 3,
   "id": "047dbb77",
   "metadata": {
    "scrolled": false
   },
   "outputs": [
    {
     "data": {
      "text/html": [
       "<div>\n",
       "<style scoped>\n",
       "    .dataframe tbody tr th:only-of-type {\n",
       "        vertical-align: middle;\n",
       "    }\n",
       "\n",
       "    .dataframe tbody tr th {\n",
       "        vertical-align: top;\n",
       "    }\n",
       "\n",
       "    .dataframe thead th {\n",
       "        text-align: right;\n",
       "    }\n",
       "</style>\n",
       "<table border=\"1\" class=\"dataframe\">\n",
       "  <thead>\n",
       "    <tr style=\"text-align: right;\">\n",
       "      <th></th>\n",
       "      <th>year</th>\n",
       "      <th>data_type</th>\n",
       "      <th>source_index</th>\n",
       "      <th>destination_index</th>\n",
       "      <th>value</th>\n",
       "    </tr>\n",
       "  </thead>\n",
       "  <tbody>\n",
       "    <tr>\n",
       "      <th>2436</th>\n",
       "      <td>2018</td>\n",
       "      <td>biomass_demand_supply</td>\n",
       "      <td>0</td>\n",
       "      <td>858.0</td>\n",
       "      <td>4.17416</td>\n",
       "    </tr>\n",
       "    <tr>\n",
       "      <th>2437</th>\n",
       "      <td>2018</td>\n",
       "      <td>biomass_demand_supply</td>\n",
       "      <td>1</td>\n",
       "      <td>858.0</td>\n",
       "      <td>29.06432</td>\n",
       "    </tr>\n",
       "    <tr>\n",
       "      <th>2438</th>\n",
       "      <td>2018</td>\n",
       "      <td>biomass_demand_supply</td>\n",
       "      <td>2</td>\n",
       "      <td>858.0</td>\n",
       "      <td>46.58752</td>\n",
       "    </tr>\n",
       "    <tr>\n",
       "      <th>2439</th>\n",
       "      <td>2018</td>\n",
       "      <td>biomass_demand_supply</td>\n",
       "      <td>3</td>\n",
       "      <td>858.0</td>\n",
       "      <td>64.93064</td>\n",
       "    </tr>\n",
       "    <tr>\n",
       "      <th>2440</th>\n",
       "      <td>2018</td>\n",
       "      <td>biomass_demand_supply</td>\n",
       "      <td>4</td>\n",
       "      <td>858.0</td>\n",
       "      <td>15.94944</td>\n",
       "    </tr>\n",
       "    <tr>\n",
       "      <th>...</th>\n",
       "      <td>...</td>\n",
       "      <td>...</td>\n",
       "      <td>...</td>\n",
       "      <td>...</td>\n",
       "      <td>...</td>\n",
       "    </tr>\n",
       "    <tr>\n",
       "      <th>4862</th>\n",
       "      <td>2018</td>\n",
       "      <td>biomass_demand_supply</td>\n",
       "      <td>2413</td>\n",
       "      <td>1548.0</td>\n",
       "      <td>3.95576</td>\n",
       "    </tr>\n",
       "    <tr>\n",
       "      <th>4863</th>\n",
       "      <td>2018</td>\n",
       "      <td>biomass_demand_supply</td>\n",
       "      <td>2414</td>\n",
       "      <td>1548.0</td>\n",
       "      <td>0.09160</td>\n",
       "    </tr>\n",
       "    <tr>\n",
       "      <th>4864</th>\n",
       "      <td>2018</td>\n",
       "      <td>biomass_demand_supply</td>\n",
       "      <td>2415</td>\n",
       "      <td>1669.0</td>\n",
       "      <td>0.02952</td>\n",
       "    </tr>\n",
       "    <tr>\n",
       "      <th>4865</th>\n",
       "      <td>2018</td>\n",
       "      <td>biomass_demand_supply</td>\n",
       "      <td>2416</td>\n",
       "      <td>1669.0</td>\n",
       "      <td>0.77680</td>\n",
       "    </tr>\n",
       "    <tr>\n",
       "      <th>4866</th>\n",
       "      <td>2018</td>\n",
       "      <td>biomass_demand_supply</td>\n",
       "      <td>2417</td>\n",
       "      <td>1669.0</td>\n",
       "      <td>0.11288</td>\n",
       "    </tr>\n",
       "  </tbody>\n",
       "</table>\n",
       "<p>2431 rows × 5 columns</p>\n",
       "</div>"
      ],
      "text/plain": [
       "      year              data_type  source_index  destination_index     value\n",
       "2436  2018  biomass_demand_supply             0              858.0   4.17416\n",
       "2437  2018  biomass_demand_supply             1              858.0  29.06432\n",
       "2438  2018  biomass_demand_supply             2              858.0  46.58752\n",
       "2439  2018  biomass_demand_supply             3              858.0  64.93064\n",
       "2440  2018  biomass_demand_supply             4              858.0  15.94944\n",
       "...    ...                    ...           ...                ...       ...\n",
       "4862  2018  biomass_demand_supply          2413             1548.0   3.95576\n",
       "4863  2018  biomass_demand_supply          2414             1548.0   0.09160\n",
       "4864  2018  biomass_demand_supply          2415             1669.0   0.02952\n",
       "4865  2018  biomass_demand_supply          2416             1669.0   0.77680\n",
       "4866  2018  biomass_demand_supply          2417             1669.0   0.11288\n",
       "\n",
       "[2431 rows x 5 columns]"
      ]
     },
     "execution_count": 3,
     "metadata": {},
     "output_type": "execute_result"
    }
   ],
   "source": [
    "manu_1 = manu[(manu['year'] == 2019)&(manu['data_type'] == 'biomass_demand_supply')]\n",
    "manu_1"
   ]
  },
  {
   "cell_type": "code",
   "execution_count": 4,
   "id": "4a6b0002",
   "metadata": {},
   "outputs": [],
   "source": [
    "bio_set = [1922, 1980, 1484, 1548, 1609, 1669, 1530, 1260, 868, 929, 858, 923, 1177, 1860, 1971]"
   ]
  },
  {
   "cell_type": "code",
   "execution_count": 5,
   "id": "d15ec764",
   "metadata": {
    "scrolled": true
   },
   "outputs": [
    {
     "name": "stdout",
     "output_type": "stream",
     "text": [
      "{1922: 20000.0}\n",
      "{1980: 19999.999999999993}\n",
      "{1484: 19999.999999900003}\n",
      "{1548: 19999.999999999985}\n",
      "{1609: 20000.0}\n",
      "{1669: 20000.0}\n",
      "{1530: 19999.999999000003}\n",
      "{1260: 20000.0}\n",
      "{868: 19999.99999999999}\n",
      "{929: 19999.999999999996}\n",
      "{858: 19999.999999999996}\n",
      "{923: 19999.999999999996}\n",
      "{1177: 20000.0}\n",
      "{1860: 19999.999999000003}\n",
      "{1971: 19999.99999999999}\n"
     ]
    }
   ],
   "source": [
    "for i in bio_set:\n",
    "    dictn = {i :sum(manu_1[manu_1['destination_index'] ==i]['value'])}\n",
    "    print(dictn)\n",
    " "
   ]
  }
 ],
 "metadata": {
  "kernelspec": {
   "display_name": "Python 3 (ipykernel)",
   "language": "python",
   "name": "python3"
  },
  "language_info": {
   "codemirror_mode": {
    "name": "ipython",
    "version": 3
   },
   "file_extension": ".py",
   "mimetype": "text/x-python",
   "name": "python",
   "nbconvert_exporter": "python",
   "pygments_lexer": "ipython3",
   "version": "3.9.13"
  }
 },
 "nbformat": 4,
 "nbformat_minor": 5
}
