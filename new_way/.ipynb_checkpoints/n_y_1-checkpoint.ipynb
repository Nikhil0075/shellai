{
 "cells": [
  {
   "cell_type": "code",
   "execution_count": 1,
   "id": "23dc61ed",
   "metadata": {},
   "outputs": [],
   "source": [
    "import pandas as pd\n",
    "import numpy as np\n",
    "import gurobipy as gp"
   ]
  },
  {
   "cell_type": "code",
   "execution_count": 2,
   "id": "bb144b50",
   "metadata": {},
   "outputs": [],
   "source": [
    "## changing the refinary with the depot_farm location"
   ]
  },
  {
   "cell_type": "markdown",
   "id": "6457e0ab",
   "metadata": {},
   "source": [
    "## importing _data"
   ]
  },
  {
   "cell_type": "code",
   "execution_count": 3,
   "id": "b664f386",
   "metadata": {},
   "outputs": [],
   "source": [
    "distance = pd.read_excel('Disttt.xlsx')\n",
    "forecast_2018 = pd.read_excel('pred_18.xlsx')\n",
    "forecast_2019 = pd.read_excel('pred_19.xlsx')"
   ]
  },
  {
   "cell_type": "code",
   "execution_count": 4,
   "id": "a3e11ab8",
   "metadata": {},
   "outputs": [],
   "source": [
    "## reorganizing\n",
    "distance = distance.drop(columns='Unnamed: 0')\n",
    "forecast_2018 = forecast_2018.drop(columns='Unnamed: 0')\n",
    "forecast_2019 = forecast_2019.drop(columns='Unnamed: 0')\n",
    "forecast_2018.set_index('Index',drop=True,inplace=True)\n",
    "forecast_2019.set_index('Index',drop=True,inplace=True)"
   ]
  },
  {
   "cell_type": "code",
   "execution_count": 5,
   "id": "49efb887",
   "metadata": {},
   "outputs": [],
   "source": [
    "#keys\n",
    "farm = distance.index\n",
    "farm_depot = distance.index\n",
    "depot_refinary = distance.index\n",
    "refinary = distance.index\n",
    "dist_col = distance.columns"
   ]
  },
  {
   "cell_type": "code",
   "execution_count": 6,
   "id": "b706d8d0",
   "metadata": {},
   "outputs": [],
   "source": [
    "farm_depot_keys = [(f,d) for f in farm for d in farm_depot]\n",
    "depot_refinary_keys = [(d,r) for d in depot_refinary for r in refinary ]"
   ]
  },
  {
   "cell_type": "code",
   "execution_count": 7,
   "id": "cf4a5d95",
   "metadata": {},
   "outputs": [],
   "source": [
    "dist_dict = {(f,d): distance.loc[f,d] for f in farm for d in dist_col}"
   ]
  },
  {
   "cell_type": "code",
   "execution_count": 8,
   "id": "d6d19481",
   "metadata": {},
   "outputs": [
    {
     "name": "stdout",
     "output_type": "stream",
     "text": [
      "Set parameter Username\n",
      "Academic license - for non-commercial use only - expires 2024-08-14\n"
     ]
    }
   ],
   "source": [
    "# Define the Gurobi model\n",
    "model = gp.Model('optimize')"
   ]
  },
  {
   "cell_type": "code",
   "execution_count": 9,
   "id": "1e310e28",
   "metadata": {},
   "outputs": [],
   "source": [
    "a = 0.001\n",
    "b = 1\n",
    "c = 1"
   ]
  },
  {
   "cell_type": "code",
   "execution_count": 10,
   "id": "d2177a33",
   "metadata": {},
   "outputs": [],
   "source": [
    "# Define the variables\n",
    "open_depot = { d : model.addVar(vtype=gp.GRB.BINARY, name=f'open_depot_{d}')  for d in farm_depot}\n",
    "open_refinary = { d : model.addVar(vtype=gp.GRB.BINARY, name=f'open_refinary_{d}') for d in depot_refinary}\n",
    "biomass_flows = {(f, d): model.addVar(lb=0, vtype=gp.GRB.CONTINUOUS, name=f'biomass_flows_{f}_{d}') for (f, d) in farm_depot_keys}\n",
    "pellet_flows = {(d, r): model.addVar(lb=0, vtype=gp.GRB.CONTINUOUS, name=f'pellet_flows_{d}_{r}') for (d, r) in depot_refinary_keys}"
   ]
  },
  {
   "cell_type": "code",
   "execution_count": 11,
   "id": "39d42ac0",
   "metadata": {},
   "outputs": [],
   "source": [
    "# Set the objective function\n",
    "Transport_cost_biomass = gp.quicksum(a * dist_dict.get((f, c)) * biomass_flows.get((f, d)) for f in farm for d in farm_depot for c in dist_col)\n",
    "Transport_cost_pellet = gp.quicksum(a * dist_dict.get((r, c)) * pellet_flows.get((d, r)) for d in depot_refinary for r in refinary for c in dist_col)"
   ]
  },
  {
   "cell_type": "code",
   "execution_count": 12,
   "id": "1a20b082",
   "metadata": {},
   "outputs": [],
   "source": [
    "Underutilization_cost_biomass = gp.quicksum(open_depot.get(d) * 200 for d in farm_depot) - gp.quicksum(biomass_flows.get((f, d)) for f in farm for d in farm_depot) \n",
    "Underutilization_cost_pellet = gp.quicksum(open_refinary.get(d) * 700 for d in depot_refinary) - gp.quicksum(pellet_flows.get((d, r)) for d in depot_refinary for r in refinary)"
   ]
  },
  {
   "cell_type": "code",
   "execution_count": 13,
   "id": "933d20bd",
   "metadata": {},
   "outputs": [],
   "source": [
    "cost_forecast = sum(forecast_2018['mae'])"
   ]
  },
  {
   "cell_type": "code",
   "execution_count": 14,
   "id": "8716a22e",
   "metadata": {},
   "outputs": [],
   "source": [
    "model.setObjective(Transport_cost_biomass + Transport_cost_pellet + cost_forecast +Underutilization_cost_biomass+Underutilization_cost_pellet , gp.GRB.MINIMIZE)"
   ]
  },
  {
   "cell_type": "code",
   "execution_count": 15,
   "id": "0a5d504d",
   "metadata": {},
   "outputs": [],
   "source": [
    "# Add constraints\n",
    "for f in farm:\n",
    "    for d in farm_depot:\n",
    "        model.addConstr(biomass_flows.get((f,d)) >= 0 ,name =f'bio_flow_{f}_{d}')"
   ]
  },
  {
   "cell_type": "code",
   "execution_count": 16,
   "id": "d90f639a",
   "metadata": {},
   "outputs": [],
   "source": [
    "for d in depot_refinary:\n",
    "    for r in refinary:\n",
    "        model.addConstr(pellet_flows.get((d,r)) >= 0 , name = f'pel_flow_{d}_{r}')\n"
   ]
  },
  {
   "cell_type": "code",
   "execution_count": 17,
   "id": "b279dc60",
   "metadata": {},
   "outputs": [],
   "source": [
    "for d in farm_depot:\n",
    "    model.addConstr(gp.quicksum(biomass_flows.get((f, d)) for f in farm) <=  200, name=f'depot_{d}_limit')"
   ]
  },
  {
   "cell_type": "code",
   "execution_count": 18,
   "id": "64840d3a",
   "metadata": {},
   "outputs": [],
   "source": [
    "for r in refinary:\n",
    "    model.addConstr(gp.quicksum( pellet_flows.get((d, r)) for d in depot_refinary) <= 700, name=f'refinery_{r}_limit')"
   ]
  },
  {
   "cell_type": "code",
   "execution_count": 19,
   "id": "a5b25a82",
   "metadata": {},
   "outputs": [],
   "source": [
    "#for d in farm_depot:\n",
    " #   for f in farm:\n",
    "  #      model.addConstr(biomass_flows.get((f,d)) <= open_depot.get(d) * 200 , name=f'depot_{f}_{d}_link')"
   ]
  },
  {
   "cell_type": "code",
   "execution_count": 20,
   "id": "f0f0a83d",
   "metadata": {},
   "outputs": [],
   "source": [
    "#for d in depot_refinary:\n",
    " #  for r in refinary:\n",
    "   #         model.addConstr(pellet_flows.get((d, r)) <= open_refinary.get(d) * 700 , name=f'refinary_{f}_{d}_link')"
   ]
  },
  {
   "cell_type": "code",
   "execution_count": 21,
   "id": "03cff47a",
   "metadata": {},
   "outputs": [
    {
     "data": {
      "text/plain": [
       "<gurobi.Constr *Awaiting Model Update*>"
      ]
     },
     "execution_count": 21,
     "metadata": {},
     "output_type": "execute_result"
    }
   ],
   "source": [
    "model.addConstr(gp.quicksum(open_depot.get(d) for d in farm_depot) >= 15, name='depot_limit_lower')\n",
    "model.addConstr(gp.quicksum(open_refinary.get(d) for d in depot_refinary) >= 2, name='refinery_limit_lower')"
   ]
  },
  {
   "cell_type": "code",
   "execution_count": 22,
   "id": "32036794",
   "metadata": {},
   "outputs": [
    {
     "data": {
      "text/plain": [
       "<gurobi.Constr *Awaiting Model Update*>"
      ]
     },
     "execution_count": 22,
     "metadata": {},
     "output_type": "execute_result"
    }
   ],
   "source": [
    "model.addConstr(gp.quicksum(open_depot.get(d) for d in farm_depot) <= 20, name='depot_limit_upper')\n",
    "model.addConstr(gp.quicksum(open_refinary.get(d) for d in depot_refinary) <= 5, name='refinery_limit_upper')"
   ]
  },
  {
   "cell_type": "code",
   "execution_count": 23,
   "id": "29d4d485",
   "metadata": {},
   "outputs": [],
   "source": [
    "for f in farm:\n",
    "    model.addConstr(gp.quicksum(open_depot.get(d) * biomass_flows.get((f, d)) for d in farm_depot) >= 0.8 * forecast_2018['forecast'].loc[f], name=f'farm_{f}_lower_limit')"
   ]
  },
  {
   "cell_type": "code",
   "execution_count": 24,
   "id": "93c27091",
   "metadata": {},
   "outputs": [],
   "source": [
    "for f in farm:\n",
    "    model.addConstr(gp.quicksum(biomass_flows.get((f, d)) for d in farm_depot) <= forecast_2018['forecast'].loc[f], name=f'farm_{f}_upper_limit')"
   ]
  },
  {
   "cell_type": "code",
   "execution_count": 25,
   "id": "b441de71",
   "metadata": {},
   "outputs": [],
   "source": [
    "for f in farm:\n",
    "    for d in farm_depot:\n",
    "        model.addConstr(biomass_flows.get((f, d)) <= open_depot.get(d) * forecast_2018['forecast'].loc[f], name=f'link_{f}_{d}_bio')\n"
   ]
  },
  {
   "cell_type": "code",
   "execution_count": 26,
   "id": "e6d1560f",
   "metadata": {},
   "outputs": [],
   "source": [
    "#for f in farm:\n",
    "#    for d in farm_depot:\n",
    "#        model.addConstr(biomass_flows.get((f, d)) <= open_depot.get(d) * forecast_2018['forecast'].loc[f], name=f'farm_{f}depot{d}_biomass_constraint')"
   ]
  },
  {
   "cell_type": "code",
   "execution_count": 27,
   "id": "b6891ea5",
   "metadata": {},
   "outputs": [],
   "source": [
    "#for f in farm:\n",
    "#    for d in farm_depot:\n",
    "#        model.addConstr(biomass_flows.get((f, d)) <= open_depot.get(d), name=f'biomass_to_open_depot_{f}_{d}')"
   ]
  },
  {
   "cell_type": "code",
   "execution_count": 28,
   "id": "35d74b24",
   "metadata": {},
   "outputs": [],
   "source": [
    "for d in farm_depot:\n",
    "    model.addConstr(gp.quicksum(biomass_flows[i, d] for i in farm) == gp.quicksum(open_refinary.get(r)*pellet_flows[d,r] for r in refinary), name=f'balance_depot_{d}')"
   ]
  },
  {
   "cell_type": "code",
   "execution_count": 29,
   "id": "08535c57",
   "metadata": {},
   "outputs": [
    {
     "data": {
      "text/plain": [
       "<gurobi.Constr *Awaiting Model Update*>"
      ]
     },
     "execution_count": 29,
     "metadata": {},
     "output_type": "execute_result"
    }
   ],
   "source": [
    "model.addConstr(gp.quicksum( biomass_flows.get((f, d)) for f in farm for d in farm_depot) == gp.quicksum( pellet_flows.get((d, r))for d in depot_refinary for r in refinary), name=f'balance_{d}')"
   ]
  },
  {
   "cell_type": "code",
   "execution_count": 30,
   "id": "f69dd44e",
   "metadata": {},
   "outputs": [],
   "source": [
    "#for d in farm_depot:\n",
    "#    model.addConstr(\n",
    "#        gp.quicksum(biomass_flows.get((i, d)) for i in farm) == gp.quicksum(pellet_flows.get((d, r)) for r in refinery),\n",
    "#        name=f'balance_depot_{d}_biomass_pellet',\n",
    "#    )\n",
    "#    # Adding a tolerance constraint\n",
    "#    model.addConstr(\n",
    " #       gp.quicksum(biomass_flows.get((i, d)) for i in farm)\n",
    "#        - gp.quicksum(pellet_flows.get((d, r)) for r in refinery)\n",
    "#        <= 1e-03,\n",
    "#        name=f'balance_tolerance_depot_{d}',\n",
    "#    )"
   ]
  },
  {
   "cell_type": "code",
   "execution_count": 31,
   "id": "925def0e",
   "metadata": {},
   "outputs": [],
   "source": [
    "for d in farm_depot:\n",
    "#    for r in refinary:\n",
    "        model.addConstr(open_depot.get(d) + open_refinary.get(d) <= 1, name=f'one_depot_{d}')"
   ]
  },
  {
   "cell_type": "markdown",
   "id": "70bca7df",
   "metadata": {},
   "source": [
    "## model optimiaztion"
   ]
  },
  {
   "cell_type": "code",
   "execution_count": 32,
   "id": "aa271e08",
   "metadata": {},
   "outputs": [],
   "source": [
    "#model.setParam('NodefileStart', 0.1)\n",
    "model.setParam(\"MIPGap\", 1e-3)"
   ]
  },
  {
   "cell_type": "code",
   "execution_count": 33,
   "id": "68fbc10b",
   "metadata": {},
   "outputs": [
    {
     "name": "stdout",
     "output_type": "stream",
     "text": [
      "Set parameter MIPFocus to value 2\n"
     ]
    }
   ],
   "source": [
    "model.setParam(\"MIPFocus\", 2)"
   ]
  },
  {
   "cell_type": "code",
   "execution_count": 34,
   "id": "61606cd7",
   "metadata": {},
   "outputs": [],
   "source": [
    "#model.setParam(\"Heuristics\",1)"
   ]
  },
  {
   "cell_type": "code",
   "execution_count": 35,
   "id": "01cf7013",
   "metadata": {},
   "outputs": [],
   "source": [
    "#model.setParam(\"Presolve\", 2)"
   ]
  },
  {
   "cell_type": "code",
   "execution_count": 36,
   "id": "cfcc7f1e",
   "metadata": {},
   "outputs": [],
   "source": [
    "#model.setParam(\"Threads\", 8) "
   ]
  },
  {
   "cell_type": "code",
   "execution_count": 37,
   "id": "87ee92af",
   "metadata": {},
   "outputs": [],
   "source": [
    "#def myLazyCallback(model, where):\n",
    "    #if where == gp.GRB.Callback.MIPSOL:\n",
    "        # Add lazy constraints if needed based on the current solution\n",
    "       # pass\n",
    "\n",
    "#model.setCallback(myLazyCallback)"
   ]
  },
  {
   "cell_type": "code",
   "execution_count": 38,
   "id": "58a190a5",
   "metadata": {
    "scrolled": false
   },
   "outputs": [
    {
     "name": "stdout",
     "output_type": "stream",
     "text": [
      "Gurobi Optimizer version 10.0.2 build v10.0.2rc0 (win64)\n",
      "\n",
      "CPU model: Intel(R) Core(TM) i5-9300H CPU @ 2.40GHz, instruction set [SSE2|AVX|AVX2]\n",
      "Thread count: 4 physical cores, 8 logical processors, using up to 8 threads\n",
      "\n",
      "Optimize a model with 8012 rows, 5304 columns and 23715 nonzeros\n",
      "Model fingerprint: 0x0bd08b87\n",
      "Model has 102 quadratic constraints\n",
      "Variable types: 5202 continuous, 102 integer (102 binary)\n",
      "Coefficient statistics:\n",
      "  Matrix range     [1e-01, 2e+02]\n",
      "  QMatrix range    [1e+00, 1e+00]\n",
      "  QLMatrix range   [1e+00, 1e+00]\n",
      "  Objective range  [2e+00, 7e+02]\n",
      "  Bounds range     [1e+00, 1e+00]\n",
      "  RHS range        [1e-01, 7e+02]\n",
      "  QRHS range       [1e-01, 1e+02]\n",
      "Presolve removed 5202 rows and 0 columns\n",
      "Presolve time: 0.04s\n",
      "Presolved: 15917 rows, 10506 columns, 54978 nonzeros\n",
      "Variable types: 10404 continuous, 102 integer (102 binary)\n",
      "Root relaxation presolve removed 2 rows and 0 columns\n",
      "Root relaxation presolved: 15813 rows, 10457 columns, 54572 nonzeros\n",
      "\n",
      "\n",
      "Root relaxation: objective 1.542842e+04, 8942 iterations, 1.64 seconds (2.18 work units)\n",
      "\n",
      "    Nodes    |    Current Node    |     Objective Bounds      |     Work\n",
      " Expl Unexpl |  Obj  Depth IntInf | Incumbent    BestBd   Gap | It/Node Time\n",
      "\n",
      "     0     0 15428.4243    0    9          - 15428.4243      -     -    3s\n",
      "H    0     0                    16828.424307 15428.4243  8.32%     -    3s\n",
      "     0     0 15428.4243    0   14 16828.4243 15428.4243  8.32%     -    5s\n",
      "     0     0 15428.4243    0    7 16828.4243 15428.4243  8.32%     -    7s\n",
      "     0     0 15428.4243    0    7 16828.4243 15428.4243  8.32%     -    7s\n",
      "     0     0 15428.4243    0    3 16828.4243 15428.4243  8.32%     -    9s\n",
      "     0     0 15428.4243    0    9 16828.4243 15428.4243  8.32%     -   12s\n",
      "     0     0 15428.4243    0    9 16828.4243 15428.4243  8.32%     -   13s\n",
      "     0     0 15428.4243    0    6 16828.4243 15428.4243  8.32%     -   14s\n",
      "     0     0 15428.4243    0   17 16828.4243 15428.4243  8.32%     -   14s\n",
      "     0     0 15428.4243    0    3 16828.4243 15428.4243  8.32%     -   16s\n",
      "     0     0 15428.4243    0    3 16828.4243 15428.4243  8.32%     -   16s\n",
      "     0     2 15428.4243    0    3 16828.4243 15428.4243  8.32%     -   17s\n",
      "     7    12 15547.7988    3    9 16828.4243 15469.7356  8.07%  2070   20s\n",
      "    40    46 16057.1004    9   25 16828.4243 15529.1632  7.72%  1276   25s\n",
      "   120   123 16575.0073   24   21 16828.4243 15547.7988  7.61%   734   30s\n",
      "   171   146 16363.3774    9   35 16828.4243 15547.7988  7.61%   773   35s\n",
      "   317   212 16103.2796   15   40 16828.4243 15609.7582  7.24%   602   40s\n",
      "   423   261 15844.5587    6   40 16828.4243 15609.7582  7.24%   583   45s\n",
      "   529   301 16346.6495   22   40 16828.4243 15687.1727  6.78%   576   50s\n",
      "   642   336 16468.3111    8   34 16828.4243 15735.6186  6.49%   582   55s\n",
      "   765   352 16792.8793   32   34 16828.4243 15770.6242  6.29%   565   60s\n",
      "   858   400 16322.9930   15   40 16828.4243 15859.5606  5.76%   586   65s\n",
      "   988   418 16203.9181   17   42 16828.4243 15908.6631  5.47%   593   70s\n",
      "  1124   481 16573.6305   11   36 16828.4243 15929.8136  5.34%   588   76s\n",
      "  1213   497 16623.6280   17   38 16828.4243 15949.3924  5.22%   595   81s\n",
      "  1302   514 16134.8940   13   42 16828.4243 15971.9994  5.09%   605   86s\n",
      "  1390   540 16670.4012   15   40 16828.4243 15974.4886  5.07%   620   91s\n",
      "  1493   552 16809.6411   24   36 16828.4243 15988.7159  4.99%   625   96s\n",
      "  1600   566 16621.8080   14   35 16828.4243 16016.5918  4.82%   627  102s\n",
      "  1660   572     cutoff   14      16828.4243 16023.6500  4.78%   627  105s\n",
      "  1802   564     cutoff   12      16828.4243 16040.6043  4.68%   626  111s\n",
      "  1874   565     cutoff   24      16828.4243 16059.4421  4.57%   628  115s\n",
      "  1993   549     cutoff   16      16828.4243 16078.5365  4.46%   635  123s\n",
      "  2043   564 16356.4518    4   31 16828.4243 16108.7339  4.28%   643  127s\n",
      "  2117   584 16576.4430   18   10 16828.4243 16108.7339  4.28%   645  131s\n",
      "  2183   576 16695.2933   27   37 16828.4243 16132.2820  4.14%   649  136s\n",
      "  2245   586 16464.0946    8   38 16828.4243 16152.7845  4.01%   656  140s\n",
      "  2320   582 16553.9276   13   41 16828.4243 16165.7374  3.94%   661  145s\n",
      "  2407   592 16397.4270    6   38 16828.4243 16177.0132  3.87%   665  150s\n",
      "  2484   584 16753.7381   29   36 16828.4243 16195.1340  3.76%   669  155s\n",
      "  2569   575 16482.5742   12   42 16828.4243 16242.2233  3.48%   675  160s\n",
      "  2654   560     cutoff    7      16828.4243 16280.3853  3.26%   678  165s\n",
      "  2746   555 16616.3990   22   43 16828.4243 16307.5425  3.10%   681  171s\n",
      "  2835   550 infeasible   20      16828.4243 16327.1166  2.98%   686  177s\n",
      "  2921   560     cutoff   20      16828.4243 16352.1589  2.83%   695  183s\n",
      "  3025   562 16767.5814   21   39 16828.4243 16371.3214  2.72%   699  189s\n",
      "  3120   515     cutoff   15      16828.4243 16388.0847  2.62%   701  196s\n",
      "  3268   499     cutoff   20      16828.4243 16438.2752  2.32%   695  203s\n",
      "  3403   472     cutoff   17      16828.4243 16474.4920  2.10%   696  210s\n",
      "  3529   433 16606.1853   19   43 16828.4243 16524.4413  1.81%   698  218s\n",
      "  3658   377     cutoff   23      16828.4243 16536.5599  1.73%   703  225s\n",
      "  3808   258 16821.0390   10   36 16828.4243 16583.8017  1.45%   702  233s\n",
      "  3984   127     cutoff   16      16828.4243 16646.7229  1.08%   696  242s\n",
      "  4168     0     cutoff   30      16828.4243 16737.4979  0.54%   689  246s\n",
      "\n",
      "Cutting planes:\n",
      "  Gomory: 3\n",
      "  Lift-and-project: 1\n",
      "  Implied bound: 70\n",
      "  Projected implied bound: 1\n",
      "  MIR: 291\n",
      "  Flow cover: 6\n",
      "  Flow path: 2\n",
      "  Inf proof: 1\n",
      "  RLT: 1\n",
      "  Relax-and-lift: 9\n",
      "  PSD: 1\n",
      "\n",
      "Explored 4306 nodes (2974477 simplex iterations) in 246.94 seconds (480.06 work units)\n",
      "Thread count was 8 (of 8 available processors)\n",
      "\n",
      "Solution count 1: 16828.4 \n",
      "\n",
      "Optimal solution found (tolerance 1.00e-04)\n",
      "Best objective 1.682842430729e+04, best bound 1.682842430729e+04, gap 0.0000%\n"
     ]
    }
   ],
   "source": [
    "# Optimize the model\n",
    "model.optimize()"
   ]
  },
  {
   "cell_type": "code",
   "execution_count": 39,
   "id": "1387c1eb",
   "metadata": {},
   "outputs": [],
   "source": [
    "open_depot_values = {var.varName: var.x for var in open_depot.values()}"
   ]
  },
  {
   "cell_type": "code",
   "execution_count": 40,
   "id": "455b28bc",
   "metadata": {},
   "outputs": [
    {
     "name": "stdout",
     "output_type": "stream",
     "text": [
      "open_depot_0: 1.0\n",
      "open_depot_3: 1.0\n",
      "open_depot_9: 1.0\n",
      "open_depot_12: 1.0\n",
      "open_depot_14: 1.0\n",
      "open_depot_20: 1.0\n",
      "open_depot_23: 1.0\n",
      "open_depot_24: 1.0\n",
      "open_depot_28: 1.0\n",
      "open_depot_31: 1.0\n",
      "open_depot_39: 1.0\n",
      "open_depot_40: 1.0\n",
      "open_depot_43: 1.0\n",
      "open_depot_48: 1.0\n",
      "open_depot_49: 1.0\n"
     ]
    }
   ],
   "source": [
    "for var_name, var_value in open_depot_values.items():\n",
    "    if var_value == 1:\n",
    "        print(f\"{var_name}: {var_value}\")"
   ]
  },
  {
   "cell_type": "code",
   "execution_count": 41,
   "id": "29e398f4",
   "metadata": {},
   "outputs": [],
   "source": [
    "open_refinary_values = {var.varName: var.x for var in open_refinary.values()}"
   ]
  },
  {
   "cell_type": "code",
   "execution_count": 42,
   "id": "21697d6e",
   "metadata": {},
   "outputs": [
    {
     "name": "stdout",
     "output_type": "stream",
     "text": [
      "open_refinary_4: 1.0\n",
      "open_refinary_5: 1.0\n",
      "open_refinary_36: 1.0\n",
      "open_refinary_38: 1.0\n"
     ]
    }
   ],
   "source": [
    "for var_name, var_value in open_refinary_values.items():\n",
    "    if var_value == 1:\n",
    "        print(f\"{var_name}: {var_value}\")"
   ]
  },
  {
   "cell_type": "code",
   "execution_count": 43,
   "id": "f7cf0e96",
   "metadata": {},
   "outputs": [],
   "source": [
    "#*open_depot.get(d) *open_refinary.get(r)"
   ]
  },
  {
   "cell_type": "code",
   "execution_count": 44,
   "id": "73d82d75",
   "metadata": {},
   "outputs": [],
   "source": [
    "biomass_flow = {var.varName: var.x for var in biomass_flows.values()}"
   ]
  },
  {
   "cell_type": "code",
   "execution_count": 45,
   "id": "640a2858",
   "metadata": {},
   "outputs": [
    {
     "name": "stdout",
     "output_type": "stream",
     "text": [
      "biomass_flows_0_40: 4.743340552614589\n",
      "biomass_flows_1_9: 33.027634735363684\n",
      "biomass_flows_2_3: 52.94041302273712\n",
      "biomass_flows_3_3: 73.78478893469017\n",
      "biomass_flows_4_14: 18.124293491412722\n",
      "biomass_flows_5_20: 27.094948205397124\n",
      "biomass_flows_6_9: 38.54993675373848\n",
      "biomass_flows_7_20: 32.49270450247184\n",
      "biomass_flows_8_31: 25.17145060797232\n",
      "biomass_flows_9_20: 33.05332104253128\n",
      "biomass_flows_10_20: 6.487246470124944\n",
      "biomass_flows_11_31: 5.819520368698466\n",
      "biomass_flows_12_31: 5.401428650757304\n",
      "biomass_flows_13_20: 0.09987007706723819\n",
      "biomass_flows_14_39: 0.4174997818717162\n",
      "biomass_flows_15_12: 18.7676211032344\n",
      "biomass_flows_16_48: 73.21441726105168\n",
      "biomass_flows_17_23: 119.71714947429868\n",
      "biomass_flows_17_38: 4.132516551180743e-11\n",
      "biomass_flows_18_31: 117.56036822545042\n",
      "biomass_flows_19_43: 61.012611433321446\n",
      "biomass_flows_20_0: 4.3912292304911205\n",
      "biomass_flows_20_12: 82.97455196619849\n",
      "biomass_flows_21_9: 54.49595663099728\n",
      "biomass_flows_21_23: 39.158087193617924\n",
      "biomass_flows_22_28: 84.081442943788\n",
      "biomass_flows_23_28: 28.794227660809113\n",
      "biomass_flows_23_39: 49.26092898991881\n",
      "biomass_flows_24_3: 61.36301136100926\n",
      "biomass_flows_24_31: 19.371032954953947\n",
      "biomass_flows_25_43: 63.08348488952928\n",
      "biomass_flows_26_14: 34.38686849378368\n",
      "biomass_flows_27_40: 31.157085322583523\n",
      "biomass_flows_28_20: 2.3425183570867123\n",
      "biomass_flows_29_43: 0.19358902652635063\n",
      "biomass_flows_30_49: 22.093286683798723\n",
      "biomass_flows_31_43: 72.20813545382975\n",
      "biomass_flows_32_0: 75.19522567793766\n",
      "biomass_flows_32_49: 30.962650724521538\n",
      "biomass_flows_33_20: 98.42939134532088\n",
      "biomass_flows_33_49: 18.43518004744874\n",
      "biomass_flows_34_39: 87.84365364921841\n",
      "biomass_flows_35_0: 17.112768104298254\n",
      "biomass_flows_35_49: 58.57538862382623\n",
      "biomass_flows_36_40: 142.53059505615678\n",
      "biomass_flows_37_23: 11.915125826688282\n",
      "biomass_flows_37_24: 111.01856167214932\n",
      "biomass_flows_38_28: 84.69664482602082\n",
      "biomass_flows_39_14: 57.361112684025926\n",
      "biomass_flows_40_49: 69.93349392041976\n",
      "biomass_flows_41_0: 44.96756277124584\n",
      "biomass_flows_41_48: 27.082698708167527\n",
      "biomass_flows_42_9: 73.92647187990056\n",
      "biomass_flows_43_14: 16.77898827819072\n",
      "biomass_flows_44_12: 2.6896479813399132\n",
      "biomass_flows_45_24: 0.335537006138684\n",
      "biomass_flows_46_43: 0.3146517617718848\n",
      "biomass_flows_47_3: 11.911786681578453\n",
      "biomass_flows_48_39: 62.47791757899104\n",
      "biomass_flows_49_12: 95.5681789492272\n",
      "biomass_flows_50_24: 88.645901321712\n"
     ]
    }
   ],
   "source": [
    "for var_name, var_value in biomass_flow.items():\n",
    "    if var_value > 0:\n",
    "        print(f\"{var_name}: {var_value}\")"
   ]
  },
  {
   "cell_type": "code",
   "execution_count": 46,
   "id": "c2201507",
   "metadata": {},
   "outputs": [],
   "source": [
    "pellet_flow_values = {var.varName: var.x for var in pellet_flows.values()}"
   ]
  },
  {
   "cell_type": "code",
   "execution_count": 47,
   "id": "576e2fb0",
   "metadata": {},
   "outputs": [
    {
     "name": "stdout",
     "output_type": "stream",
     "text": [
      "pellet_flows_0_4: 141.66678578397287\n",
      "pellet_flows_3_5: 200.000000000015\n",
      "pellet_flows_9_4: 70.1817758551662\n",
      "pellet_flows_9_36: 129.8182241448338\n",
      "pellet_flows_12_5: 34.04173942585143\n",
      "pellet_flows_12_38: 165.95826057414857\n",
      "pellet_flows_14_4: 89.71138668619719\n",
      "pellet_flows_14_5: 36.93987626121586\n",
      "pellet_flows_20_36: 94.43022024799745\n",
      "pellet_flows_20_38: 105.56977975200257\n",
      "pellet_flows_23_38: 170.7903624946049\n",
      "pellet_flows_24_4: 0.6516170367830796\n",
      "pellet_flows_24_38: 199.34838296321692\n",
      "pellet_flows_28_4: 141.66678578397287\n",
      "pellet_flows_28_5: 55.90552964664508\n",
      "pellet_flows_31_5: 43.50557666299866\n",
      "pellet_flows_31_36: 129.8182241448338\n",
      "pellet_flows_38_5: 4.132516551180743e-11\n",
      "pellet_flows_39_4: 141.66678578397287\n",
      "pellet_flows_39_38: 58.33321421602713\n",
      "pellet_flows_40_5: 62.613029583072766\n",
      "pellet_flows_40_36: 115.81799134828213\n",
      "pellet_flows_43_5: 66.99424842014491\n",
      "pellet_flows_43_36: 129.8182241448338\n",
      "pellet_flows_48_36: 100.29711596921922\n",
      "pellet_flows_49_5: 200.000000000015\n"
     ]
    }
   ],
   "source": [
    "for var_name, var_value in pellet_flow_values.items():\n",
    "    if var_value > 0:\n",
    "        print(f\"{var_name}: {var_value}\")"
   ]
  },
  {
   "cell_type": "code",
   "execution_count": 48,
   "id": "f7e156ec",
   "metadata": {},
   "outputs": [],
   "source": [
    "constraints = model.getConstrs()"
   ]
  },
  {
   "cell_type": "code",
   "execution_count": 49,
   "id": "d53a2a56",
   "metadata": {},
   "outputs": [
    {
     "name": "stdout",
     "output_type": "stream",
     "text": [
      "Model display exported to model_display.txt\n"
     ]
    }
   ],
   "source": [
    "import sys\n",
    "original_stdout = sys.stdout\n",
    "output_file = \"model_display.txt\"\n",
    "with open(output_file, \"w\") as file:\n",
    "    sys.stdout = file\n",
    "\n",
    "    # Display information about the model\n",
    "    model.display()\n",
    "\n",
    "# Reset the standard output\n",
    "sys.stdout = original_stdout\n",
    "print(f\"Model display exported to {output_file}\")"
   ]
  },
  {
   "cell_type": "code",
   "execution_count": null,
   "id": "fc21280c",
   "metadata": {},
   "outputs": [],
   "source": []
  }
 ],
 "metadata": {
  "kernelspec": {
   "display_name": "Python 3 (ipykernel)",
   "language": "python",
   "name": "python3"
  },
  "language_info": {
   "codemirror_mode": {
    "name": "ipython",
    "version": 3
   },
   "file_extension": ".py",
   "mimetype": "text/x-python",
   "name": "python",
   "nbconvert_exporter": "python",
   "pygments_lexer": "ipython3",
   "version": "3.9.13"
  }
 },
 "nbformat": 4,
 "nbformat_minor": 5
}
