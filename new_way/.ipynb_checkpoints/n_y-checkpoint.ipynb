{
 "cells": [
  {
   "cell_type": "code",
   "execution_count": 1,
   "id": "23dc61ed",
   "metadata": {},
   "outputs": [],
   "source": [
    "import pandas as pd\n",
    "import numpy as np\n",
    "import gurobipy as gp"
   ]
  },
  {
   "cell_type": "markdown",
   "id": "6457e0ab",
   "metadata": {},
   "source": [
    "## importing _data"
   ]
  },
  {
   "cell_type": "code",
   "execution_count": 2,
   "id": "b664f386",
   "metadata": {},
   "outputs": [],
   "source": [
    "distance = pd.read_excel('Disttt.xlsx')\n",
    "forecast_2018 = pd.read_excel('pred_18.xlsx')\n",
    "forecast_2019 = pd.read_excel('pred_19.xlsx')"
   ]
  },
  {
   "cell_type": "code",
   "execution_count": 3,
   "id": "a3e11ab8",
   "metadata": {},
   "outputs": [],
   "source": [
    "## reorganizing\n",
    "distance = distance.drop(columns='Unnamed: 0')\n",
    "forecast_2018 = forecast_2018.drop(columns='Unnamed: 0')\n",
    "forecast_2019 = forecast_2019.drop(columns='Unnamed: 0')\n",
    "forecast_2018.set_index('Index',drop=True,inplace=True)\n",
    "forecast_2019.set_index('Index',drop=True,inplace=True)"
   ]
  },
  {
   "cell_type": "code",
   "execution_count": 4,
   "id": "49efb887",
   "metadata": {},
   "outputs": [],
   "source": [
    "#keys\n",
    "farm = distance.index\n",
    "farm_depot = distance.columns\n",
    "depot_refinary = distance.columns\n",
    "refinary = distance.index"
   ]
  },
  {
   "cell_type": "code",
   "execution_count": 5,
   "id": "b706d8d0",
   "metadata": {},
   "outputs": [],
   "source": [
    "farm_depot_keys = [(f,d) for f in farm for d in farm_depot]\n",
    "depot_refinary_keys = [(d,r) for d in depot_refinary for r in refinary ]"
   ]
  },
  {
   "cell_type": "code",
   "execution_count": 6,
   "id": "cf4a5d95",
   "metadata": {},
   "outputs": [],
   "source": [
    "dist_dict = {(f,d): distance.loc[f,d] for f in farm for d in farm_depot}"
   ]
  },
  {
   "cell_type": "code",
   "execution_count": 7,
   "id": "d6d19481",
   "metadata": {},
   "outputs": [
    {
     "name": "stdout",
     "output_type": "stream",
     "text": [
      "Set parameter Username\n",
      "Academic license - for non-commercial use only - expires 2024-08-14\n"
     ]
    }
   ],
   "source": [
    "# Define the Gurobi model\n",
    "model = gp.Model('optimize')"
   ]
  },
  {
   "cell_type": "code",
   "execution_count": 8,
   "id": "1e310e28",
   "metadata": {},
   "outputs": [],
   "source": [
    "a = 0.001\n",
    "b = 1\n",
    "c = 1"
   ]
  },
  {
   "cell_type": "code",
   "execution_count": 9,
   "id": "d2177a33",
   "metadata": {},
   "outputs": [],
   "source": [
    "# Define the variables\n",
    "open_depot = { d : model.addVar(vtype=gp.GRB.BINARY, name=f'open_depot_{d}')  for d in farm_depot}\n",
    "open_refinary = { r : model.addVar(vtype=gp.GRB.BINARY, name=f'open_refinary_{r}') for r in refinary}\n",
    "biomass_flows = {(f, d): model.addVar(lb=0, vtype=gp.GRB.CONTINUOUS, name=f'biomass_flows_{f}_{d}') for (f, d) in farm_depot_keys}\n",
    "pellet_flows = {(d, r): model.addVar(lb=0, vtype=gp.GRB.CONTINUOUS, name=f'pellet_flows_{d}_{r}') for (d, r) in depot_refinary_keys}"
   ]
  },
  {
   "cell_type": "code",
   "execution_count": 10,
   "id": "39d42ac0",
   "metadata": {},
   "outputs": [],
   "source": [
    "# Set the objective function\n",
    "Transport_cost_biomass = gp.quicksum(a * dist_dict.get((f, d)) * biomass_flows.get((f, d)) for f in farm for d in farm_depot)\n",
    "Transport_cost_pellet = gp.quicksum(a * dist_dict.get((r, d)) * pellet_flows.get((d, r)) for d in depot_refinary for r in refinary)"
   ]
  },
  {
   "cell_type": "code",
   "execution_count": 11,
   "id": "1a20b082",
   "metadata": {},
   "outputs": [],
   "source": [
    "Underutilization_cost_biomass = gp.quicksum(open_depot.get(d) * 200 for d in farm_depot) - gp.quicksum(biomass_flows.get((f, d)) for f in farm for d in farm_depot) \n",
    "Underutilization_cost_pellet = gp.quicksum(open_refinary.get(r) * 700 for r in refinary) - gp.quicksum(pellet_flows.get((d, r)) for d in depot_refinary for r in refinary)"
   ]
  },
  {
   "cell_type": "code",
   "execution_count": 12,
   "id": "933d20bd",
   "metadata": {},
   "outputs": [],
   "source": [
    "cost_forecast = sum(forecast_2018['mae'])"
   ]
  },
  {
   "cell_type": "code",
   "execution_count": 13,
   "id": "8716a22e",
   "metadata": {},
   "outputs": [],
   "source": [
    "model.setObjective(Transport_cost_biomass + Transport_cost_pellet + cost_forecast +Underutilization_cost_biomass+Underutilization_cost_pellet , gp.GRB.MINIMIZE)"
   ]
  },
  {
   "cell_type": "code",
   "execution_count": 14,
   "id": "0a5d504d",
   "metadata": {},
   "outputs": [],
   "source": [
    "# Add constraints\n",
    "for f in farm:\n",
    "    for d in farm_depot:\n",
    "        model.addConstr(biomass_flows.get((f,d)) >= 0 ,name =f'bio_flow_{f}_{d}')\n"
   ]
  },
  {
   "cell_type": "code",
   "execution_count": 15,
   "id": "d90f639a",
   "metadata": {},
   "outputs": [],
   "source": [
    "for d in depot_refinary:\n",
    "    for r in refinary:\n",
    "        model.addConstr(pellet_flows.get((d,r)) >= 0 , name = f'pel_flow_{d}_{r}')\n"
   ]
  },
  {
   "cell_type": "code",
   "execution_count": 16,
   "id": "b279dc60",
   "metadata": {},
   "outputs": [],
   "source": [
    "for d in farm_depot:\n",
    "    model.addConstr(gp.quicksum(biomass_flows.get((f, d)) for f in farm) <= open_depot.get(d) * 200, name=f'depot_{d}_limit')"
   ]
  },
  {
   "cell_type": "code",
   "execution_count": 17,
   "id": "64840d3a",
   "metadata": {},
   "outputs": [],
   "source": [
    "for r in refinary:\n",
    "    model.addConstr(gp.quicksum( pellet_flows.get((d, r)) for d in depot_refinary) <= open_refinary.get(r) * 700, name=f'refinery_{r}_limit')"
   ]
  },
  {
   "cell_type": "code",
   "execution_count": 18,
   "id": "a5b25a82",
   "metadata": {},
   "outputs": [],
   "source": [
    "#for d in farm_depot:\n",
    " #   for f in farm:\n",
    "  #      model.addConstr(biomass_flows.get((f,d)) <= open_depot.get(d) * 200 , name=f'depot_{f}_{d}_link')\n"
   ]
  },
  {
   "cell_type": "code",
   "execution_count": 19,
   "id": "f0f0a83d",
   "metadata": {},
   "outputs": [],
   "source": [
    "#for r in refinary:\n",
    "#    for d in depot_refinary:\n",
    "#        model.addConstr(pellet_flows.get((d, r)) <= open_refinary.get(d) * 700 , name=f'refinary_{f}_{d}_link')"
   ]
  },
  {
   "cell_type": "code",
   "execution_count": 20,
   "id": "03cff47a",
   "metadata": {},
   "outputs": [
    {
     "data": {
      "text/plain": [
       "<gurobi.Constr *Awaiting Model Update*>"
      ]
     },
     "execution_count": 20,
     "metadata": {},
     "output_type": "execute_result"
    }
   ],
   "source": [
    "model.addConstr(gp.quicksum(open_depot.get(d) for d in farm_depot) >= 15, name='depot_limit_lower')\n",
    "model.addConstr(gp.quicksum(open_refinary.get(r) for r in refinary) >= 2, name='refinery_limit_lower')"
   ]
  },
  {
   "cell_type": "code",
   "execution_count": 21,
   "id": "32036794",
   "metadata": {},
   "outputs": [
    {
     "data": {
      "text/plain": [
       "<gurobi.Constr *Awaiting Model Update*>"
      ]
     },
     "execution_count": 21,
     "metadata": {},
     "output_type": "execute_result"
    }
   ],
   "source": [
    "model.addConstr(gp.quicksum(open_depot.get(d) for d in farm_depot) <= 20, name='depot_limit_upper')\n",
    "model.addConstr(gp.quicksum(open_refinary.get(r) for r in refinary) <= 5, name='refinery_limit_upper')"
   ]
  },
  {
   "cell_type": "code",
   "execution_count": 22,
   "id": "29d4d485",
   "metadata": {},
   "outputs": [],
   "source": [
    "for f in farm:\n",
    "    model.addConstr(gp.quicksum(open_depot.get(d) * biomass_flows.get((f, d)) for d in farm_depot) >= 0.8 * forecast_2018['forecast'].loc[f], name=f'farm_{f}_lower_limit')"
   ]
  },
  {
   "cell_type": "code",
   "execution_count": 23,
   "id": "93c27091",
   "metadata": {},
   "outputs": [],
   "source": [
    "for f in farm:\n",
    "    model.addConstr(gp.quicksum(biomass_flows.get((f, d)) for d in farm_depot) <= forecast_2018['forecast'].loc[f], name=f'farm_{f}_upper_limit')"
   ]
  },
  {
   "cell_type": "code",
   "execution_count": 24,
   "id": "b441de71",
   "metadata": {},
   "outputs": [],
   "source": [
    "for f in farm:\n",
    "    for d in farm_depot:\n",
    "        model.addConstr(biomass_flows.get((f, d)) <= open_depot.get(d) * forecast_2018['forecast'].loc[f], name=f'link_{f}_{d}_bio')\n"
   ]
  },
  {
   "cell_type": "code",
   "execution_count": 25,
   "id": "e6d1560f",
   "metadata": {},
   "outputs": [],
   "source": [
    "#for f in farm:\n",
    "#    for d in farm_depot:\n",
    "#        model.addConstr(biomass_flows.get((f, d)) <= open_depot.get(d) * forecast_2018['forecast'].loc[f], name=f'farm_{f}depot{d}_biomass_constraint')"
   ]
  },
  {
   "cell_type": "code",
   "execution_count": 26,
   "id": "b6891ea5",
   "metadata": {},
   "outputs": [],
   "source": [
    "#for f in farm:\n",
    "#    for d in farm_depot:\n",
    "#        model.addConstr(biomass_flows.get((f, d)) <= open_depot.get(d), name=f'biomass_to_open_depot_{f}_{d}')"
   ]
  },
  {
   "cell_type": "code",
   "execution_count": 27,
   "id": "35d74b24",
   "metadata": {},
   "outputs": [],
   "source": [
    "for d in farm_depot:\n",
    "    model.addConstr(gp.quicksum(biomass_flows[i, d] for i in farm) == gp.quicksum(pellet_flows[d, r] for r in refinary), name=f'balance_depot_{d}')"
   ]
  },
  {
   "cell_type": "code",
   "execution_count": 28,
   "id": "08535c57",
   "metadata": {},
   "outputs": [
    {
     "data": {
      "text/plain": [
       "<gurobi.Constr *Awaiting Model Update*>"
      ]
     },
     "execution_count": 28,
     "metadata": {},
     "output_type": "execute_result"
    }
   ],
   "source": [
    "model.addConstr(gp.quicksum( biomass_flows.get((f, d)) for f in farm for d in farm_depot) == gp.quicksum( pellet_flows.get((d, r))for d in depot_refinary for r in refinary), name=f'balance_{d}')"
   ]
  },
  {
   "cell_type": "code",
   "execution_count": 29,
   "id": "f69dd44e",
   "metadata": {},
   "outputs": [],
   "source": [
    "#for d in farm_depot:\n",
    "#    model.addConstr(\n",
    "#        gp.quicksum(biomass_flows.get((i, d)) for i in farm) == gp.quicksum(pellet_flows.get((d, r)) for r in refinery),\n",
    "#        name=f'balance_depot_{d}_biomass_pellet',\n",
    "#    )\n",
    "#    # Adding a tolerance constraint\n",
    "#    model.addConstr(\n",
    " #       gp.quicksum(biomass_flows.get((i, d)) for i in farm)\n",
    "#        - gp.quicksum(pellet_flows.get((d, r)) for r in refinery)\n",
    "#        <= 1e-03,\n",
    "#        name=f'balance_tolerance_depot_{d}',\n",
    "#    )"
   ]
  },
  {
   "cell_type": "code",
   "execution_count": 30,
   "id": "925def0e",
   "metadata": {},
   "outputs": [],
   "source": [
    "for d in farm_depot:\n",
    "#    for r in refinary:\n",
    "        model.addConstr(open_depot.get(d) + open_refinary.get(r) <= 1, name=f'one_depot_{d}')"
   ]
  },
  {
   "cell_type": "markdown",
   "id": "70bca7df",
   "metadata": {},
   "source": [
    "## model optimiaztion"
   ]
  },
  {
   "cell_type": "code",
   "execution_count": 31,
   "id": "aa271e08",
   "metadata": {},
   "outputs": [
    {
     "name": "stdout",
     "output_type": "stream",
     "text": [
      "Set parameter MIPGap to value 0.26\n"
     ]
    }
   ],
   "source": [
    "#model.setParam('NodefileStart', 0.1)\n",
    "model.setParam(\"MIPGap\", 0.27)"
   ]
  },
  {
   "cell_type": "code",
   "execution_count": 32,
   "id": "68fbc10b",
   "metadata": {},
   "outputs": [],
   "source": [
    "#model.setParam(\"MIPFocus\", 2)"
   ]
  },
  {
   "cell_type": "code",
   "execution_count": 33,
   "id": "61606cd7",
   "metadata": {},
   "outputs": [],
   "source": [
    "#model.setParam(\"Heuristics\",1)"
   ]
  },
  {
   "cell_type": "code",
   "execution_count": 34,
   "id": "01cf7013",
   "metadata": {},
   "outputs": [],
   "source": [
    "#model.setParam(\"Presolve\", 2)"
   ]
  },
  {
   "cell_type": "code",
   "execution_count": 35,
   "id": "cfcc7f1e",
   "metadata": {},
   "outputs": [],
   "source": [
    "#model.setParam(\"Threads\", 8) "
   ]
  },
  {
   "cell_type": "code",
   "execution_count": 36,
   "id": "87ee92af",
   "metadata": {},
   "outputs": [],
   "source": [
    "#def myLazyCallback(model, where):\n",
    "    #if where == gp.GRB.Callback.MIPSOL:\n",
    "        # Add lazy constraints if needed based on the current solution\n",
    "       # pass\n",
    "\n",
    "#model.setCallback(myLazyCallback)"
   ]
  },
  {
   "cell_type": "code",
   "execution_count": 37,
   "id": "58a190a5",
   "metadata": {
    "scrolled": false
   },
   "outputs": [
    {
     "name": "stdout",
     "output_type": "stream",
     "text": [
      "Gurobi Optimizer version 10.0.2 build v10.0.2rc0 (win64)\n",
      "\n",
      "CPU model: Intel(R) Core(TM) i5-9300H CPU @ 2.40GHz, instruction set [SSE2|AVX|AVX2]\n",
      "Thread count: 4 physical cores, 8 logical processors, using up to 8 threads\n",
      "\n",
      "Optimize a model with 8063 rows, 5304 columns and 29019 nonzeros\n",
      "Model fingerprint: 0xdb49a571\n",
      "Model has 51 quadratic constraints\n",
      "Variable types: 5202 continuous, 102 integer (102 binary)\n",
      "Coefficient statistics:\n",
      "  Matrix range     [1e-01, 7e+02]\n",
      "  QMatrix range    [1e+00, 1e+00]\n",
      "  Objective range  [8e-01, 7e+02]\n",
      "  Bounds range     [1e+00, 1e+00]\n",
      "  RHS range        [1e-01, 2e+02]\n",
      "  QRHS range       [1e-01, 1e+02]\n",
      "Presolve removed 5255 rows and 52 columns\n",
      "Presolve time: 0.04s\n",
      "Presolved: 8061 rows, 7853 columns, 31413 nonzeros\n",
      "Variable types: 7752 continuous, 101 integer (101 binary)\n",
      "Found heuristic solution: objective 1114.0833460\n",
      "\n",
      "Root relaxation: objective 5.094548e+02, 3588 iterations, 0.17 seconds (0.26 work units)\n",
      "\n",
      "    Nodes    |    Current Node    |     Objective Bounds      |     Work\n",
      " Expl Unexpl |  Obj  Depth IntInf | Incumbent    BestBd   Gap | It/Node Time\n",
      "\n",
      "     0     0  509.45478    0   27 1114.08335  509.45478  54.3%     -    0s\n",
      "H    0     0                    1026.1935897  509.45478  50.4%     -    0s\n",
      "     0     0  530.43169    0   27 1026.19359  530.43169  48.3%     -    0s\n",
      "     0     0  530.43169    0   42 1026.19359  530.43169  48.3%     -    0s\n",
      "     0     0  530.44205    0   42 1026.19359  530.44205  48.3%     -    0s\n",
      "     0     0  533.98900    0   50 1026.19359  533.98900  48.0%     -    0s\n",
      "     0     0  534.56829    0   53 1026.19359  534.56829  47.9%     -    1s\n",
      "H    0     0                     749.2928025  534.56829  28.7%     -    1s\n",
      "     0     0  536.70128    0   50  749.29280  536.70128  28.4%     -    1s\n",
      "     0     0  537.40648    0   46  749.29280  537.40648  28.3%     -    1s\n",
      "     0     0  537.52881    0   40  749.29280  537.52881  28.3%     -    1s\n",
      "H    0     0                     743.1900169  537.52881  27.7%     -    1s\n",
      "     0     0  538.41255    0   48  743.19002  538.41255  27.6%     -    1s\n",
      "     0     0  538.46346    0   51  743.19002  538.46346  27.5%     -    1s\n",
      "     0     0  538.65151    0   50  743.19002  538.65151  27.5%     -    1s\n",
      "     0     0  538.67782    0   50  743.19002  538.67782  27.5%     -    1s\n",
      "     0     0  538.75507    0   47  743.19002  538.75507  27.5%     -    1s\n",
      "     0     0  538.79137    0   43  743.19002  538.79137  27.5%     -    1s\n",
      "     0     0  538.79186    0   43  743.19002  538.79186  27.5%     -    1s\n",
      "     0     0  538.81207    0   44  743.19002  538.81207  27.5%     -    1s\n",
      "     0     0  538.81207    0   44  743.19002  538.81207  27.5%     -    1s\n",
      "     0     2  538.81207    0   44  743.19002  538.81207  27.5%     -    2s\n",
      "H    3     8                     737.0645650  539.15875  26.9%  41.3    2s\n",
      "H   30    35                     735.2925009  539.47013  26.6%  52.7    3s\n",
      "H   61    65                     734.8604409  539.47013  26.6%  75.4    3s\n",
      "H  187   193                     734.8604409  539.47013  26.6%  83.7    4s\n",
      "   192   207  551.04351   39   14  734.86044  539.47013  26.6%  84.3    5s\n",
      "H  260   238                     734.5002255  539.47013  26.6%   120    6s\n",
      "H  735   636                     734.1097154  539.61232  26.5%  96.3    8s\n",
      "  1032   828  544.75687   19   51  734.10972  539.71515  26.5%  82.0   10s\n",
      "  1079   859  543.49734   18   61  734.10972  540.51475  26.4%  78.5   15s\n",
      "  1112   884  540.90222   16   58  734.10972  540.89580  26.3%  84.3   20s\n",
      "  1267   995  545.32401   34   16  734.10972  541.10624  26.3%   104   25s\n",
      "  1494  1139  710.08371   50    9  734.10972  541.10624  26.3%   136   30s\n",
      "  1998  1310  541.95722   22   28  734.10972  541.24178  26.3%   135   35s\n",
      "  2531  1504  549.24362   48   20  734.10972  541.36811  26.3%   125   40s\n",
      "  2939  1714  551.81312   59   17  734.10972  541.71034  26.2%   145   45s\n",
      "  3630  2091  543.32197   30   27  734.10972  541.89525  26.2%   148   50s\n",
      "  4300  2625  545.38311   21   36  734.10972  541.97477  26.2%   143   56s\n",
      "  5145  3390  559.50797   33   26  734.10972  542.23455  26.1%   141   60s\n",
      "  5963  4159  693.90904   25    4  734.10972  542.33419  26.1%   134   65s\n",
      "  7157  5079  544.52444   33   17  734.10972  542.49442  26.1%   128   71s\n",
      "  7959  5605  545.06189   32   10  734.10972  542.55843  26.1%   123   76s\n",
      "  8746  6299  733.92622   71    8  734.10972  542.63637  26.1%   123   80s\n",
      " 10058  7642  732.98673   71    2  734.10972  542.79829  26.1%   119   87s\n",
      " 10735  8277  691.10051   24    7  734.10972  542.89065  26.0%   116   90s\n",
      " 12484  9525  549.71396   35   27  734.10972  543.01192  26.0%   113   96s\n",
      " 13373  9818  546.53924   32   14  734.10972  543.04798  26.0%   112  100s\n",
      " 14379 10775  693.97490   31    6  734.10972  543.13882  26.0%   113  106s\n",
      " 15772 12000  553.39265   29   31  734.10972  543.21501  26.0%   110  111s\n",
      "\n",
      "Cutting planes:\n",
      "  Lift-and-project: 127\n",
      "  Implied bound: 99\n",
      "  MIR: 274\n",
      "  Flow cover: 64\n",
      "  RLT: 5\n",
      "  Relax-and-lift: 7\n",
      "\n",
      "Explored 16404 nodes (1787047 simplex iterations) in 111.65 seconds (185.88 work units)\n",
      "Thread count was 8 (of 8 available processors)\n",
      "\n",
      "Solution count 9: 734.11 734.5 734.86 ... 1114.08\n",
      "\n",
      "Optimal solution found (tolerance 2.60e-01)\n",
      "Best objective 7.341097153714e+02, best bound 5.432557977356e+02, gap 25.9980%\n"
     ]
    }
   ],
   "source": [
    "# Optimize the model\n",
    "model.optimize()"
   ]
  },
  {
   "cell_type": "code",
   "execution_count": 38,
   "id": "1387c1eb",
   "metadata": {},
   "outputs": [],
   "source": [
    "open_depot_values = {var.varName: var.x for var in open_depot.values()}"
   ]
  },
  {
   "cell_type": "code",
   "execution_count": 39,
   "id": "455b28bc",
   "metadata": {},
   "outputs": [
    {
     "name": "stdout",
     "output_type": "stream",
     "text": [
      "open_depot_2: 1.0\n",
      "open_depot_17: 1.0\n",
      "open_depot_18: 1.0\n",
      "open_depot_20: 1.0\n",
      "open_depot_22: 1.0\n",
      "open_depot_23: 1.0\n",
      "open_depot_24: 1.0\n",
      "open_depot_31: 1.0\n",
      "open_depot_32: 1.0\n",
      "open_depot_33: 1.0\n",
      "open_depot_34: 1.0\n",
      "open_depot_35: 1.0\n",
      "open_depot_38: 1.0\n",
      "open_depot_39: 1.0\n",
      "open_depot_40: 1.0\n",
      "open_depot_41: 1.0\n",
      "open_depot_49: 1.0\n"
     ]
    }
   ],
   "source": [
    "for var_name, var_value in open_depot_values.items():\n",
    "    if var_value == 1:\n",
    "        print(f\"{var_name}: {var_value}\")"
   ]
  },
  {
   "cell_type": "code",
   "execution_count": 40,
   "id": "29e398f4",
   "metadata": {},
   "outputs": [],
   "source": [
    "open_refinary_values = {var.varName: var.x for var in open_refinary.values()}"
   ]
  },
  {
   "cell_type": "code",
   "execution_count": 41,
   "id": "21697d6e",
   "metadata": {},
   "outputs": [
    {
     "name": "stdout",
     "output_type": "stream",
     "text": [
      "open_refinary_17: 1.0\n",
      "open_refinary_23: 1.0\n",
      "open_refinary_31: 1.0\n",
      "open_refinary_35: 1.0\n",
      "open_refinary_40: 1.0\n"
     ]
    }
   ],
   "source": [
    "for var_name, var_value in open_refinary_values.items():\n",
    "    if var_value == 1:\n",
    "        print(f\"{var_name}: {var_value}\")"
   ]
  },
  {
   "cell_type": "code",
   "execution_count": 42,
   "id": "f7cf0e96",
   "metadata": {},
   "outputs": [],
   "source": [
    "#*open_depot.get(d) *open_refinary.get(r)"
   ]
  },
  {
   "cell_type": "code",
   "execution_count": 43,
   "id": "73d82d75",
   "metadata": {},
   "outputs": [],
   "source": [
    "biomass_flow = {var.varName: var.x for var in biomass_flows.values()}"
   ]
  },
  {
   "cell_type": "code",
   "execution_count": 44,
   "id": "640a2858",
   "metadata": {},
   "outputs": [
    {
     "name": "stdout",
     "output_type": "stream",
     "text": [
      "biomass_flows_0_2: 5.92917569420455\n",
      "biomass_flows_1_2: 41.2845434192046\n",
      "biomass_flows_2_2: 66.1755162784214\n",
      "biomass_flows_3_2: 7.891208736580467\n",
      "biomass_flows_3_17: 50.353563157075\n",
      "biomass_flows_3_18: 33.98621427470724\n",
      "biomass_flows_4_18: 19.063325443479755\n",
      "biomass_flows_4_34: 3.5920414207861455\n",
      "biomass_flows_5_20: 33.8686852567464\n",
      "biomass_flows_6_20: 48.1874209421731\n",
      "biomass_flows_7_20: 8.736667305218496\n",
      "biomass_flows_7_23: 2.755173524678696\n",
      "biomass_flows_7_35: 29.124039798192612\n",
      "biomass_flows_8_23: 31.4643132599654\n",
      "biomass_flows_9_23: 41.3166513031641\n",
      "biomass_flows_10_23: 4.72555763827792\n",
      "biomass_flows_10_24: 3.3835004493782606\n",
      "biomass_flows_11_41: 7.27440046391346\n",
      "biomass_flows_12_41: 6.75178581344663\n",
      "biomass_flows_13_41: 0.124837599106508\n",
      "biomass_flows_14_31: 0.521874729980293\n",
      "biomass_flows_15_31: 23.459526379043\n",
      "biomass_flows_16_2: 78.719555871589\n",
      "biomass_flows_16_31: 12.7984657047256\n",
      "biomass_flows_17_17: 149.646436842925\n",
      "biomass_flows_18_18: 146.950460281813\n",
      "biomass_flows_19_35: 76.2657642916518\n",
      "biomass_flows_20_20: 109.207226495862\n",
      "biomass_flows_21_22: 94.898196320265\n",
      "biomass_flows_21_23: 22.169358460504\n",
      "biomass_flows_22_22: 105.101803679735\n",
      "biomass_flows_23_23: 97.5689458134099\n",
      "biomass_flows_24_24: 100.917555394954\n",
      "biomass_flows_25_24: 78.8543561119116\n",
      "biomass_flows_26_24: 16.844588043756133\n",
      "biomass_flows_26_38: 2.569341664983888\n",
      "biomass_flows_26_40: 23.56965590848958\n",
      "biomass_flows_27_40: 38.9463566532294\n",
      "biomass_flows_28_41: 2.92814794820826\n",
      "biomass_flows_29_31: 0.241986284874313\n",
      "biomass_flows_30_31: 27.6166083547484\n",
      "biomass_flows_31_31: 90.2601693172872\n",
      "biomass_flows_32_32: 132.697345503074\n",
      "biomass_flows_33_33: 146.080714240962\n",
      "biomass_flows_34_34: 109.804567061523\n",
      "biomass_flows_35_35: 94.6101959101556\n",
      "biomass_flows_36_34: 86.60339151770586\n",
      "biomass_flows_36_38: 91.55985230249011\n",
      "biomass_flows_37_39: 128.2986091449676\n",
      "biomass_flows_37_40: 25.368500228579393\n",
      "biomass_flows_38_38: 105.870806032526\n",
      "biomass_flows_39_39: 71.7013908550324\n",
      "biomass_flows_40_40: 87.4168674005247\n",
      "biomass_flows_41_41: 90.0628268492667\n",
      "biomass_flows_42_40: 20.52382387155562\n",
      "biomass_flows_42_41: 71.88426597832007\n",
      "biomass_flows_43_41: 20.9737353477384\n",
      "biomass_flows_44_40: 3.36205997720481\n",
      "biomass_flows_45_40: 0.419421258201659\n",
      "biomass_flows_46_40: 0.393314702214856\n",
      "biomass_flows_47_31: 14.8897333521143\n",
      "biomass_flows_48_31: 30.211635877226882\n",
      "biomass_flows_48_49: 47.885761096511914\n",
      "biomass_flows_49_49: 119.460223686534\n",
      "biomass_flows_50_32: 67.30265449692601\n",
      "biomass_flows_50_33: 10.85070693825989\n",
      "biomass_flows_50_49: 32.65401521695409\n"
     ]
    }
   ],
   "source": [
    "for var_name, var_value in biomass_flow.items():\n",
    "    if var_value > 0:\n",
    "        print(f\"{var_name}: {var_value}\")"
   ]
  },
  {
   "cell_type": "code",
   "execution_count": 45,
   "id": "c2201507",
   "metadata": {},
   "outputs": [],
   "source": [
    "pellet_flow_values = {var.varName: var.x for var in pellet_flows.values()}"
   ]
  },
  {
   "cell_type": "code",
   "execution_count": 46,
   "id": "576e2fb0",
   "metadata": {},
   "outputs": [
    {
     "name": "stdout",
     "output_type": "stream",
     "text": [
      "pellet_flows_2_17: 200.0\n",
      "pellet_flows_17_17: 200.0\n",
      "pellet_flows_18_17: 143.0685788207781\n",
      "pellet_flows_18_35: 56.9314211792219\n",
      "pellet_flows_20_35: 200.0\n",
      "pellet_flows_22_23: 200.0\n",
      "pellet_flows_23_23: 200.0\n",
      "pellet_flows_24_23: 200.0\n",
      "pellet_flows_31_31: 199.99999999999997\n",
      "pellet_flows_32_31: 200.0\n",
      "pellet_flows_33_17: 156.9314211792219\n",
      "pellet_flows_34_31: 3.552713678800501e-15\n",
      "pellet_flows_34_35: 200.000000000015\n",
      "pellet_flows_35_35: 200.0\n",
      "pellet_flows_38_40: 200.0\n",
      "pellet_flows_39_23: 100.0\n",
      "pellet_flows_39_40: 100.0\n",
      "pellet_flows_40_31: 2.842170943040401e-14\n",
      "pellet_flows_40_40: 200.0\n",
      "pellet_flows_41_31: 2.842170943040401e-14\n",
      "pellet_flows_41_40: 200.0\n",
      "pellet_flows_49_31: 200.0\n"
     ]
    }
   ],
   "source": [
    "for var_name, var_value in pellet_flow_values.items():\n",
    "    if var_value > 0:\n",
    "        print(f\"{var_name}: {var_value}\")"
   ]
  },
  {
   "cell_type": "code",
   "execution_count": 47,
   "id": "f7e156ec",
   "metadata": {},
   "outputs": [],
   "source": [
    "constraints = model.getConstrs()"
   ]
  },
  {
   "cell_type": "code",
   "execution_count": 48,
   "id": "d53a2a56",
   "metadata": {},
   "outputs": [
    {
     "name": "stdout",
     "output_type": "stream",
     "text": [
      "Model display exported to model_display.txt\n"
     ]
    }
   ],
   "source": [
    "import sys\n",
    "original_stdout = sys.stdout\n",
    "output_file = \"model_display.txt\"\n",
    "with open(output_file, \"w\") as file:\n",
    "    sys.stdout = file\n",
    "\n",
    "    # Display information about the model\n",
    "    model.display()\n",
    "\n",
    "# Reset the standard output\n",
    "sys.stdout = original_stdout\n",
    "print(f\"Model display exported to {output_file}\")"
   ]
  },
  {
   "cell_type": "code",
   "execution_count": null,
   "id": "fc21280c",
   "metadata": {},
   "outputs": [],
   "source": []
  }
 ],
 "metadata": {
  "kernelspec": {
   "display_name": "Python 3 (ipykernel)",
   "language": "python",
   "name": "python3"
  },
  "language_info": {
   "codemirror_mode": {
    "name": "ipython",
    "version": 3
   },
   "file_extension": ".py",
   "mimetype": "text/x-python",
   "name": "python",
   "nbconvert_exporter": "python",
   "pygments_lexer": "ipython3",
   "version": "3.9.13"
  }
 },
 "nbformat": 4,
 "nbformat_minor": 5
}
