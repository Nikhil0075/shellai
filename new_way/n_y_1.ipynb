{
 "cells": [
  {
   "cell_type": "code",
   "execution_count": 1,
   "id": "23dc61ed",
   "metadata": {},
   "outputs": [],
   "source": [
    "import pandas as pd\n",
    "import numpy as np\n",
    "import gurobipy as gp"
   ]
  },
  {
   "cell_type": "code",
   "execution_count": 2,
   "id": "bb144b50",
   "metadata": {},
   "outputs": [],
   "source": [
    "## changing the refinary with the depot_farm location"
   ]
  },
  {
   "cell_type": "markdown",
   "id": "6457e0ab",
   "metadata": {},
   "source": [
    "## importing _data"
   ]
  },
  {
   "cell_type": "code",
   "execution_count": 3,
   "id": "b664f386",
   "metadata": {},
   "outputs": [],
   "source": [
    "distance = pd.read_excel('Disttt.xlsx')\n",
    "forecast_2018 = pd.read_excel('pred_18.xlsx')\n",
    "forecast_2019 = pd.read_excel('pred_19.xlsx')"
   ]
  },
  {
   "cell_type": "code",
   "execution_count": 4,
   "id": "a3e11ab8",
   "metadata": {},
   "outputs": [],
   "source": [
    "## reorganizing\n",
    "distance = distance.drop(columns='Unnamed: 0')\n",
    "forecast_2018 = forecast_2018.drop(columns='Unnamed: 0')\n",
    "forecast_2019 = forecast_2019.drop(columns='Unnamed: 0')\n",
    "forecast_2018.set_index('Index',drop=True,inplace=True)\n",
    "forecast_2019.set_index('Index',drop=True,inplace=True)"
   ]
  },
  {
   "cell_type": "code",
   "execution_count": 5,
   "id": "49efb887",
   "metadata": {},
   "outputs": [
    {
     "data": {
      "text/plain": [
       "21.5222999999999"
      ]
     },
     "execution_count": 5,
     "metadata": {},
     "output_type": "execute_result"
    }
   ],
   "source": [
    "#keys\n",
    "farm = distance.index\n",
    "farm_depot = distance.index\n",
    "depot_refinary = distance.index\n",
    "refinary = distance.index\n",
    "distance.loc[5,7]"
   ]
  },
  {
   "cell_type": "code",
   "execution_count": 6,
   "id": "b706d8d0",
   "metadata": {},
   "outputs": [],
   "source": [
    "farm_depot_keys = [(f,d) for f in farm for d in farm_depot]\n",
    "depot_refinary_keys = [(d,r) for d in depot_refinary for r in refinary ]"
   ]
  },
  {
   "cell_type": "code",
   "execution_count": 7,
   "id": "cf4a5d95",
   "metadata": {},
   "outputs": [
    {
     "data": {
      "text/plain": [
       "21.5222999999999"
      ]
     },
     "execution_count": 7,
     "metadata": {},
     "output_type": "execute_result"
    }
   ],
   "source": [
    "dist_dict = {(f,d): distance.loc[f,d] for f in farm for d in farm_depot}\n",
    "dist_dict.get((5, 7))"
   ]
  },
  {
   "cell_type": "code",
   "execution_count": 8,
   "id": "d6d19481",
   "metadata": {},
   "outputs": [
    {
     "name": "stdout",
     "output_type": "stream",
     "text": [
      "Set parameter Username\n",
      "Academic license - for non-commercial use only - expires 2024-08-14\n"
     ]
    }
   ],
   "source": [
    "# Define the Gurobi model\n",
    "model = gp.Model('optimize')"
   ]
  },
  {
   "cell_type": "code",
   "execution_count": 9,
   "id": "1e310e28",
   "metadata": {},
   "outputs": [],
   "source": [
    "a = 0.001\n",
    "b = 1\n",
    "c = 1"
   ]
  },
  {
   "cell_type": "code",
   "execution_count": 10,
   "id": "d2177a33",
   "metadata": {},
   "outputs": [],
   "source": [
    "# Define the variables\n",
    "open_depot = { d : model.addVar(vtype=gp.GRB.BINARY, name=f'open_depot_{d}')  for d in farm_depot}\n",
    "open_refinary = { d : model.addVar(vtype=gp.GRB.BINARY, name=f'open_refinary_{d}') for d in depot_refinary}\n",
    "biomass_flows = {(f, d): model.addVar(lb=0, vtype=gp.GRB.CONTINUOUS, name=f'biomass_flows_{f}_{d}') for (f, d) in farm_depot_keys}\n",
    "pellet_flows = {(d, r): model.addVar(lb=0, vtype=gp.GRB.CONTINUOUS, name=f'pellet_flows_{d}_{r}') for (d, r) in depot_refinary_keys}"
   ]
  },
  {
   "cell_type": "code",
   "execution_count": 11,
   "id": "39d42ac0",
   "metadata": {},
   "outputs": [],
   "source": [
    "# Set the objective function\n",
    "Transport_cost_biomass = gp.quicksum(a * dist_dict.get((f, d)) * biomass_flows.get((f, d)) for f in farm for d in farm_depot )\n",
    "Transport_cost_pellet = gp.quicksum(a * dist_dict.get((d,r)) * pellet_flows.get((d, r)) for d in depot_refinary for r in refinary)"
   ]
  },
  {
   "cell_type": "code",
   "execution_count": 12,
   "id": "1a20b082",
   "metadata": {},
   "outputs": [],
   "source": [
    "Underutilization_cost_biomass = gp.quicksum(open_depot.get(d) * 200 for d in farm_depot) - gp.quicksum(biomass_flows.get((f, d)) for f in farm for d in farm_depot) \n",
    "Underutilization_cost_pellet = gp.quicksum(open_refinary.get(d) * 700 for d in depot_refinary) - gp.quicksum(pellet_flows.get((d, r)) for d in depot_refinary for r in refinary)"
   ]
  },
  {
   "cell_type": "code",
   "execution_count": 13,
   "id": "933d20bd",
   "metadata": {},
   "outputs": [],
   "source": [
    "cost_forecast = sum(forecast_2018['mae'])"
   ]
  },
  {
   "cell_type": "code",
   "execution_count": 14,
   "id": "8716a22e",
   "metadata": {},
   "outputs": [],
   "source": [
    "model.setObjective(Transport_cost_biomass + Transport_cost_pellet + cost_forecast +Underutilization_cost_biomass+Underutilization_cost_pellet , gp.GRB.MINIMIZE)"
   ]
  },
  {
   "cell_type": "code",
   "execution_count": 15,
   "id": "0499395f",
   "metadata": {},
   "outputs": [
    {
     "data": {
      "text/plain": [
       "<gurobi.Constr *Awaiting Model Update*>"
      ]
     },
     "execution_count": 15,
     "metadata": {},
     "output_type": "execute_result"
    }
   ],
   "source": [
    "model.addConstr(Transport_cost_biomass + Transport_cost_pellet + cost_forecast +Underutilization_cost_biomass+Underutilization_cost_pellet >= 0, name='main')"
   ]
  },
  {
   "cell_type": "code",
   "execution_count": 16,
   "id": "0a5d504d",
   "metadata": {},
   "outputs": [],
   "source": [
    "# Add constraints\n",
    "for f in farm:\n",
    "    for d in farm_depot:\n",
    "        model.addConstr(biomass_flows.get((f,d)) >= 0 ,name =f'bio_flow_{f}_{d}')"
   ]
  },
  {
   "cell_type": "code",
   "execution_count": 17,
   "id": "d90f639a",
   "metadata": {},
   "outputs": [],
   "source": [
    "for d in depot_refinary:\n",
    "    for r in refinary:\n",
    "        model.addConstr(pellet_flows.get((d,r)) >= 0 , name = f'pel_flow_{d}_{r}')\n"
   ]
  },
  {
   "cell_type": "code",
   "execution_count": 18,
   "id": "b279dc60",
   "metadata": {},
   "outputs": [],
   "source": [
    "for d in farm_depot:\n",
    "    model.addConstr(gp.quicksum(biomass_flows.get((f, d)) for f in farm) <=  200, name=f'depot_{d}_limit')"
   ]
  },
  {
   "cell_type": "code",
   "execution_count": 19,
   "id": "64840d3a",
   "metadata": {},
   "outputs": [],
   "source": [
    "for r in refinary:\n",
    "    model.addConstr(gp.quicksum( pellet_flows.get((d, r)) for d in depot_refinary) <= 700, name=f'refinery_{r}_limit')"
   ]
  },
  {
   "cell_type": "code",
   "execution_count": 20,
   "id": "a5b25a82",
   "metadata": {},
   "outputs": [],
   "source": [
    "#for d in farm_depot:\n",
    " #   for f in farm:\n",
    "  #      model.addConstr(biomass_flows.get((f,d)) <= open_depot.get(d) * 200 , name=f'depot_{f}_{d}_link')"
   ]
  },
  {
   "cell_type": "code",
   "execution_count": 21,
   "id": "f0f0a83d",
   "metadata": {},
   "outputs": [],
   "source": [
    "#for d in depot_refinary:\n",
    " #  for r in refinary:\n",
    "   #         model.addConstr(pellet_flows.get((d, r)) <= open_refinary.get(d) * 700 , name=f'refinary_{f}_{d}_link')"
   ]
  },
  {
   "cell_type": "code",
   "execution_count": 22,
   "id": "03cff47a",
   "metadata": {},
   "outputs": [
    {
     "data": {
      "text/plain": [
       "<gurobi.Constr *Awaiting Model Update*>"
      ]
     },
     "execution_count": 22,
     "metadata": {},
     "output_type": "execute_result"
    }
   ],
   "source": [
    "model.addConstr(gp.quicksum(open_depot.get(d) for d in farm_depot) >= 15, name='depot_limit_lower')\n",
    "model.addConstr(gp.quicksum(open_refinary.get(d) for d in depot_refinary) >= 2, name='refinery_limit_lower')"
   ]
  },
  {
   "cell_type": "code",
   "execution_count": 23,
   "id": "32036794",
   "metadata": {},
   "outputs": [
    {
     "data": {
      "text/plain": [
       "<gurobi.Constr *Awaiting Model Update*>"
      ]
     },
     "execution_count": 23,
     "metadata": {},
     "output_type": "execute_result"
    }
   ],
   "source": [
    "model.addConstr(gp.quicksum(open_depot.get(d) for d in farm_depot) <= 20, name='depot_limit_upper')\n",
    "model.addConstr(gp.quicksum(open_refinary.get(d) for d in depot_refinary) <= 5, name='refinery_limit_upper')"
   ]
  },
  {
   "cell_type": "code",
   "execution_count": 24,
   "id": "29d4d485",
   "metadata": {},
   "outputs": [],
   "source": [
    "for f in farm:\n",
    "    model.addConstr(gp.quicksum(open_depot.get(d) * biomass_flows.get((f, d)) for d in farm_depot) >= 0.8 * forecast_2018['forecast'].loc[f], name=f'farm_{f}_lower_limit')"
   ]
  },
  {
   "cell_type": "code",
   "execution_count": 25,
   "id": "93c27091",
   "metadata": {},
   "outputs": [],
   "source": [
    "for f in farm:\n",
    "    model.addConstr(gp.quicksum(biomass_flows.get((f, d)) for d in farm_depot) <= forecast_2018['forecast'].loc[f], name=f'farm_{f}_upper_limit')"
   ]
  },
  {
   "cell_type": "code",
   "execution_count": 26,
   "id": "b441de71",
   "metadata": {},
   "outputs": [],
   "source": [
    "for f in farm:\n",
    "    for d in farm_depot:\n",
    "        model.addConstr(biomass_flows.get((f, d)) <= open_depot.get(d) * forecast_2018['forecast'].loc[f], name=f'link_{f}_{d}_bio')\n"
   ]
  },
  {
   "cell_type": "code",
   "execution_count": 27,
   "id": "e6d1560f",
   "metadata": {},
   "outputs": [],
   "source": [
    "#for f in farm:\n",
    "#    for d in farm_depot:\n",
    "#        model.addConstr(biomass_flows.get((f, d)) <= open_depot.get(d) * forecast_2018['forecast'].loc[f], name=f'farm_{f}depot{d}_biomass_constraint')"
   ]
  },
  {
   "cell_type": "code",
   "execution_count": 28,
   "id": "b6891ea5",
   "metadata": {},
   "outputs": [],
   "source": [
    "#for f in farm:\n",
    "#    for d in farm_depot:\n",
    "#        model.addConstr(biomass_flows.get((f, d)) <= open_depot.get(d), name=f'biomass_to_open_depot_{f}_{d}')"
   ]
  },
  {
   "cell_type": "code",
   "execution_count": 29,
   "id": "35d74b24",
   "metadata": {},
   "outputs": [],
   "source": [
    "for d in farm_depot:\n",
    "    model.addConstr(gp.quicksum(biomass_flows[i, d] for i in farm) == gp.quicksum(open_refinary.get(r)*pellet_flows[d,r] for r in refinary), name=f'balance_depot_{d}')"
   ]
  },
  {
   "cell_type": "code",
   "execution_count": 30,
   "id": "08535c57",
   "metadata": {},
   "outputs": [
    {
     "data": {
      "text/plain": [
       "<gurobi.Constr *Awaiting Model Update*>"
      ]
     },
     "execution_count": 30,
     "metadata": {},
     "output_type": "execute_result"
    }
   ],
   "source": [
    "model.addConstr(gp.quicksum( biomass_flows.get((f, d)) for f in farm for d in farm_depot) == gp.quicksum( pellet_flows.get((d, r))for d in depot_refinary for r in refinary), name=f'balance_{d}')"
   ]
  },
  {
   "cell_type": "code",
   "execution_count": 31,
   "id": "f69dd44e",
   "metadata": {},
   "outputs": [],
   "source": [
    "#for d in farm_depot:\n",
    "#    model.addConstr(\n",
    "#        gp.quicksum(biomass_flows.get((i, d)) for i in farm) == gp.quicksum(pellet_flows.get((d, r)) for r in refinery),\n",
    "#        name=f'balance_depot_{d}_biomass_pellet',\n",
    "#    )\n",
    "#    # Adding a tolerance constraint\n",
    "#    model.addConstr(\n",
    " #       gp.quicksum(biomass_flows.get((i, d)) for i in farm)\n",
    "#        - gp.quicksum(pellet_flows.get((d, r)) for r in refinery)\n",
    "#        <= 1e-03,\n",
    "#        name=f'balance_tolerance_depot_{d}',\n",
    "#    )"
   ]
  },
  {
   "cell_type": "code",
   "execution_count": 32,
   "id": "925def0e",
   "metadata": {},
   "outputs": [],
   "source": [
    "for d in farm_depot:\n",
    "#    for r in refinary:\n",
    "        model.addConstr(open_depot.get(d) + open_refinary.get(d) <= 1, name=f'one_depot_{d}')"
   ]
  },
  {
   "cell_type": "markdown",
   "id": "70bca7df",
   "metadata": {},
   "source": [
    "## model optimiaztion"
   ]
  },
  {
   "cell_type": "code",
   "execution_count": 33,
   "id": "aa271e08",
   "metadata": {},
   "outputs": [
    {
     "name": "stdout",
     "output_type": "stream",
     "text": [
      "Set parameter MIPGap to value 1\n"
     ]
    }
   ],
   "source": [
    "#model.setParam('NodefileStart', 0.1)\n",
    "model.setParam(\"MIPGap\",1)"
   ]
  },
  {
   "cell_type": "code",
   "execution_count": 34,
   "id": "68fbc10b",
   "metadata": {},
   "outputs": [
    {
     "name": "stdout",
     "output_type": "stream",
     "text": [
      "Set parameter MIPFocus to value 2\n"
     ]
    }
   ],
   "source": [
    "model.setParam(\"MIPFocus\", 2)"
   ]
  },
  {
   "cell_type": "code",
   "execution_count": 35,
   "id": "61606cd7",
   "metadata": {},
   "outputs": [
    {
     "name": "stdout",
     "output_type": "stream",
     "text": [
      "Set parameter Heuristics to value 1\n"
     ]
    }
   ],
   "source": [
    "model.setParam(\"Heuristics\",1)"
   ]
  },
  {
   "cell_type": "code",
   "execution_count": 36,
   "id": "01cf7013",
   "metadata": {},
   "outputs": [
    {
     "name": "stdout",
     "output_type": "stream",
     "text": [
      "Set parameter Presolve to value 2\n"
     ]
    }
   ],
   "source": [
    "model.setParam(\"Presolve\", 2)"
   ]
  },
  {
   "cell_type": "code",
   "execution_count": 37,
   "id": "cfcc7f1e",
   "metadata": {},
   "outputs": [],
   "source": [
    "#model.setParam(\"Threads\", 8) "
   ]
  },
  {
   "cell_type": "code",
   "execution_count": 38,
   "id": "87ee92af",
   "metadata": {},
   "outputs": [],
   "source": [
    "#def myLazyCallback(model, where):\n",
    "    #if where == gp.GRB.Callback.MIPSOL:\n",
    "        # Add lazy constraints if needed based on the current solution\n",
    "       # pass\n",
    "\n",
    "#model.setCallback(myLazyCallback)"
   ]
  },
  {
   "cell_type": "code",
   "execution_count": 39,
   "id": "58a190a5",
   "metadata": {
    "scrolled": false
   },
   "outputs": [
    {
     "name": "stdout",
     "output_type": "stream",
     "text": [
      "Gurobi Optimizer version 10.0.2 build v10.0.2rc0 (win64)\n",
      "\n",
      "CPU model: Intel(R) Core(TM) i5-9300H CPU @ 2.40GHz, instruction set [SSE2|AVX|AVX2]\n",
      "Thread count: 4 physical cores, 8 logical processors, using up to 8 threads\n",
      "\n",
      "Optimize a model with 8013 rows, 5304 columns and 29019 nonzeros\n",
      "Model fingerprint: 0x689d9db0\n",
      "Model has 102 quadratic constraints\n",
      "Variable types: 5202 continuous, 102 integer (102 binary)\n",
      "Coefficient statistics:\n",
      "  Matrix range     [1e-01, 7e+02]\n",
      "  QMatrix range    [1e+00, 1e+00]\n",
      "  QLMatrix range   [1e+00, 1e+00]\n",
      "  Objective range  [8e-01, 7e+02]\n",
      "  Bounds range     [1e+00, 1e+00]\n",
      "  RHS range        [1e-01, 7e+02]\n",
      "  QRHS range       [1e-01, 1e+02]\n",
      "Presolve removed 5202 rows and 0 columns\n",
      "Presolve time: 0.08s\n",
      "Presolved: 15918 rows, 10506 columns, 60280 nonzeros\n",
      "Variable types: 10404 continuous, 102 integer (102 binary)\n",
      "Root relaxation presolve removed 2 rows and 0 columns\n",
      "Root relaxation presolved: 15814 rows, 10457 columns, 59874 nonzeros\n",
      "\n",
      "\n",
      "Root relaxation: objective 1.534772e-12, 14107 iterations, 2.00 seconds (3.08 work units)\n",
      "\n",
      "    Nodes    |    Current Node    |     Objective Bounds      |     Work\n",
      " Expl Unexpl |  Obj  Depth IntInf | Incumbent    BestBd   Gap | It/Node Time\n",
      "\n",
      "     0     0   -0.00000    0    3          -   -0.00000      -     -    3s\n",
      "H    0     0                    1445.0028284   -0.00000   100%     -    3s\n",
      "H    0     0                    1404.0657724   -0.00000   100%     -    4s\n",
      "     0     0   -0.00000    0   26 1404.06577   -0.00000   100%     -    5s\n",
      "     0     0   -0.00000    0    3 1404.06577   -0.00000   100%     -    8s\n",
      "     0     0   -0.00000    0    3 1404.06577   -0.00000   100%     -    8s\n",
      "H    0     0                    1225.0000000   -0.00000   100%     -   10s\n",
      "H    0     0                    1024.1714812   -0.00000   100%     -   10s\n",
      "H    0     0                     805.7105940   -0.00000   100%     -   10s\n",
      "     0     0    0.00000    0    3  805.71059    0.00000   100%     -   10s\n",
      "\n",
      "Cutting planes:\n",
      "  Implied bound: 41\n",
      "  MIR: 36\n",
      "  Flow cover: 16\n",
      "  Flow path: 7\n",
      "\n",
      "Explored 1 nodes (61529 simplex iterations) in 10.69 seconds (16.06 work units)\n",
      "Thread count was 8 (of 8 available processors)\n",
      "\n",
      "Solution count 3: 805.711 1024.17 1404.07 \n",
      "\n",
      "Optimal solution found (tolerance 1.00e+00)\n",
      "Best objective 8.057105940215e+02, best bound 1.637090463191e-11, gap 100.0000%\n"
     ]
    }
   ],
   "source": [
    "# Optimize the model\n",
    "model.optimize()"
   ]
  },
  {
   "cell_type": "code",
   "execution_count": 40,
   "id": "1387c1eb",
   "metadata": {},
   "outputs": [],
   "source": [
    "open_depot_values = {var.varName: var.x for var in open_depot.values()}"
   ]
  },
  {
   "cell_type": "code",
   "execution_count": 41,
   "id": "455b28bc",
   "metadata": {},
   "outputs": [
    {
     "name": "stdout",
     "output_type": "stream",
     "text": [
      "open_depot_2: 1.0\n",
      "open_depot_3: 1.0\n",
      "open_depot_5: 1.0\n",
      "open_depot_7: 1.0\n",
      "open_depot_11: 1.0\n",
      "open_depot_12: 1.0\n",
      "open_depot_21: 1.0\n",
      "open_depot_31: 1.0\n",
      "open_depot_33: 1.0\n",
      "open_depot_35: 1.0\n",
      "open_depot_36: 1.0\n",
      "open_depot_38: 1.0\n",
      "open_depot_39: 1.0\n",
      "open_depot_40: 1.0\n",
      "open_depot_47: 1.0\n",
      "open_depot_49: 1.0\n",
      "open_depot_50: 1.0\n"
     ]
    }
   ],
   "source": [
    "for var_name, var_value in open_depot_values.items():\n",
    "    if var_value == 1:\n",
    "        print(f\"{var_name}: {var_value}\")"
   ]
  },
  {
   "cell_type": "code",
   "execution_count": 42,
   "id": "29e398f4",
   "metadata": {},
   "outputs": [],
   "source": [
    "open_refinary_values = {var.varName: var.x for var in open_refinary.values()}"
   ]
  },
  {
   "cell_type": "code",
   "execution_count": 43,
   "id": "21697d6e",
   "metadata": {},
   "outputs": [
    {
     "name": "stdout",
     "output_type": "stream",
     "text": [
      "open_refinary_1: 1.0\n",
      "open_refinary_10: 1.0\n",
      "open_refinary_15: 1.0\n",
      "open_refinary_17: 1.0\n",
      "open_refinary_23: 1.0\n"
     ]
    }
   ],
   "source": [
    "for var_name, var_value in open_refinary_values.items():\n",
    "    if var_value == 1:\n",
    "        print(f\"{var_name}: {var_value}\")"
   ]
  },
  {
   "cell_type": "code",
   "execution_count": 44,
   "id": "f7cf0e96",
   "metadata": {},
   "outputs": [],
   "source": [
    "#*open_depot.get(d) *open_refinary.get(r)"
   ]
  },
  {
   "cell_type": "code",
   "execution_count": 45,
   "id": "73d82d75",
   "metadata": {},
   "outputs": [],
   "source": [
    "biomass_flow = {var.varName: var.x for var in biomass_flows.values()}"
   ]
  },
  {
   "cell_type": "code",
   "execution_count": 46,
   "id": "640a2858",
   "metadata": {},
   "outputs": [
    {
     "name": "stdout",
     "output_type": "stream",
     "text": [
      "biomass_flows_0_31: 5.929175694245551\n",
      "biomass_flows_1_2: 11.820901839571349\n",
      "biomass_flows_1_49: 29.463641579715905\n",
      "biomass_flows_2_2: 66.1755162784214\n",
      "biomass_flows_3_3: 92.2309861683627\n",
      "biomass_flows_4_5: 22.6553668642659\n",
      "biomass_flows_5_3: 33.8686852567464\n",
      "biomass_flows_6_7: 48.18742094217309\n",
      "biomass_flows_6_19: 2.220446049250313e-16\n",
      "biomass_flows_7_7: 40.6158806280898\n",
      "biomass_flows_8_7: 6.2928626519930795\n",
      "biomass_flows_8_11: 25.17145060797232\n",
      "biomass_flows_9_11: 41.3166513031641\n",
      "biomass_flows_10_11: 8.10905808765618\n",
      "biomass_flows_11_11: 7.27440046391346\n",
      "biomass_flows_12_11: 6.75178581344663\n",
      "biomass_flows_13_11: 0.124837599106508\n",
      "biomass_flows_14_47: 0.521874729980293\n",
      "biomass_flows_15_15: 4.132516551180743e-11\n",
      "biomass_flows_15_49: 23.45952637900168\n",
      "biomass_flows_16_2: 2.3583837889606523\n",
      "biomass_flows_16_15: 4.132516551180743e-11\n",
      "biomass_flows_16_50: 89.15963778731262\n",
      "biomass_flows_17_2: 111.5168404413082\n",
      "biomass_flows_17_33: 38.12959640161678\n",
      "biomass_flows_18_3: 69.48556560321228\n",
      "biomass_flows_18_31: 61.675205321179526\n",
      "biomass_flows_18_33: 15.789689357421192\n",
      "biomass_flows_19_5: 76.26576429161048\n",
      "biomass_flows_19_15: 4.132516551180743e-11\n",
      "biomass_flows_20_2: 8.12835765173837\n",
      "biomass_flows_20_5: 101.0788688441236\n",
      "biomass_flows_21_21: 117.067554780769\n",
      "biomass_flows_22_7: 22.169358460488994\n",
      "biomass_flows_22_21: 82.932445219246\n",
      "biomass_flows_23_39: 7.627015604513424\n",
      "biomass_flows_23_40: 89.94193020889647\n",
      "biomass_flows_24_39: 100.917555394954\n",
      "biomass_flows_25_11: 78.85435611191161\n",
      "biomass_flows_26_38: 23.229547471729415\n",
      "biomass_flows_26_39: 19.754038145500186\n",
      "biomass_flows_27_12: 38.9463566532294\n",
      "biomass_flows_28_12: 2.92814794820826\n",
      "biomass_flows_29_47: 0.241986284874313\n",
      "biomass_flows_30_49: 27.6166083547484\n",
      "biomass_flows_31_31: 90.26016931728722\n",
      "biomass_flows_32_24: 7.105427357601002e-15\n",
      "biomass_flows_32_31: 42.13544966730276\n",
      "biomass_flows_32_47: 90.56189583577122\n",
      "biomass_flows_33_33: 146.080714240962\n",
      "biomass_flows_34_3: 4.4147629716785985\n",
      "biomass_flows_34_35: 105.3898040898444\n",
      "biomass_flows_35_35: 94.6101959101556\n",
      "biomass_flows_36_36: 178.163243820196\n",
      "biomass_flows_37_7: 82.73447731725504\n",
      "biomass_flows_37_38: 70.89964649574456\n",
      "biomass_flows_37_50: 0.032985560547388104\n",
      "biomass_flows_38_38: 105.870806032526\n",
      "biomass_flows_39_39: 71.7013908550324\n",
      "biomass_flows_40_40: 87.4168674005247\n",
      "biomass_flows_41_12: 67.42162445867287\n",
      "biomass_flows_41_40: 22.641202390593843\n",
      "biomass_flows_42_11: 32.39746001282923\n",
      "biomass_flows_42_12: 60.01062983704645\n",
      "biomass_flows_43_12: 20.9737353477384\n",
      "biomass_flows_44_12: 3.36205997720481\n",
      "biomass_flows_45_12: 0.419421258201659\n",
      "biomass_flows_46_12: 0.393314702214856\n",
      "biomass_flows_47_47: 14.8897333521143\n",
      "biomass_flows_48_19: 7.105427357601002e-15\n",
      "biomass_flows_48_47: 78.0973969737388\n",
      "biomass_flows_49_49: 119.460223686534\n",
      "biomass_flows_50_50: 110.80737665214\n"
     ]
    }
   ],
   "source": [
    "for var_name, var_value in biomass_flow.items():\n",
    "    if var_value > 0:\n",
    "        print(f\"{var_name}: {var_value}\")"
   ]
  },
  {
   "cell_type": "code",
   "execution_count": 47,
   "id": "c2201507",
   "metadata": {},
   "outputs": [],
   "source": [
    "pellet_flow_values = {var.varName: var.x for var in pellet_flows.values()}"
   ]
  },
  {
   "cell_type": "code",
   "execution_count": 48,
   "id": "576e2fb0",
   "metadata": {},
   "outputs": [
    {
     "name": "stdout",
     "output_type": "stream",
     "text": [
      "pellet_flows_2_1: 200.000000000015\n",
      "pellet_flows_3_1: 194.45529018253168\n",
      "pellet_flows_3_17: 5.544709817468288\n",
      "pellet_flows_5_17: 200.0\n",
      "pellet_flows_7_23: 200.000000000015\n",
      "pellet_flows_11_10: 200.0\n",
      "pellet_flows_12_10: 194.4552901825167\n",
      "pellet_flows_14_29: 1.3210694760346087e-09\n",
      "pellet_flows_21_23: 200.000000000015\n",
      "pellet_flows_31_1: 200.000000000015\n",
      "pellet_flows_33_17: 200.000000000015\n",
      "pellet_flows_35_17: 200.000000000015\n",
      "pellet_flows_36_15: 78.16324382024101\n",
      "pellet_flows_36_23: 99.99999999995498\n",
      "pellet_flows_38_10: 105.54470981746829\n",
      "pellet_flows_38_17: 94.45529018253171\n",
      "pellet_flows_39_10: 200.000000000015\n",
      "pellet_flows_40_23: 200.000000000015\n",
      "pellet_flows_47_15: 184.3128871764789\n",
      "pellet_flows_47_48: 6.873832891773901e-10\n",
      "pellet_flows_49_15: 199.99999999999997\n",
      "pellet_flows_50_15: 200.000000000015\n"
     ]
    }
   ],
   "source": [
    "for var_name, var_value in pellet_flow_values.items():\n",
    "    if var_value > 0:\n",
    "        print(f\"{var_name}: {var_value}\")"
   ]
  },
  {
   "cell_type": "code",
   "execution_count": 49,
   "id": "f7e156ec",
   "metadata": {},
   "outputs": [],
   "source": [
    "constraints = model.getConstrs()"
   ]
  },
  {
   "cell_type": "code",
   "execution_count": 50,
   "id": "d53a2a56",
   "metadata": {},
   "outputs": [
    {
     "name": "stdout",
     "output_type": "stream",
     "text": [
      "Model display exported to model_display.txt\n"
     ]
    }
   ],
   "source": [
    "import sys\n",
    "original_stdout = sys.stdout\n",
    "output_file = \"model_display.txt\"\n",
    "with open(output_file, \"w\") as file:\n",
    "    sys.stdout = file\n",
    "\n",
    "    # Display information about the model\n",
    "    model.display()\n",
    "\n",
    "# Reset the standard output\n",
    "sys.stdout = original_stdout\n",
    "print(f\"Model display exported to {output_file}\")"
   ]
  },
  {
   "cell_type": "code",
   "execution_count": null,
   "id": "fc21280c",
   "metadata": {},
   "outputs": [],
   "source": []
  }
 ],
 "metadata": {
  "kernelspec": {
   "display_name": "Python 3 (ipykernel)",
   "language": "python",
   "name": "python3"
  },
  "language_info": {
   "codemirror_mode": {
    "name": "ipython",
    "version": 3
   },
   "file_extension": ".py",
   "mimetype": "text/x-python",
   "name": "python",
   "nbconvert_exporter": "python",
   "pygments_lexer": "ipython3",
   "version": "3.9.13"
  }
 },
 "nbformat": 4,
 "nbformat_minor": 5
}
