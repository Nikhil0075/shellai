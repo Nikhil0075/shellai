{
 "cells": [
  {
   "cell_type": "code",
   "execution_count": 1,
   "id": "62e4fc3e",
   "metadata": {},
   "outputs": [],
   "source": [
    "import pandas as pd\n",
    "import numpy as np\n",
    "import cplex"
   ]
  },
  {
   "cell_type": "code",
   "execution_count": 2,
   "id": "89e6c0c0",
   "metadata": {},
   "outputs": [],
   "source": [
    "distance = pd.read_excel('Disttt.xlsx')\n",
    "forecast_2018 = pd.read_excel('pred_18.xlsx')\n",
    "forecast_2019 = pd.read_excel('pred_19.xlsx')"
   ]
  },
  {
   "cell_type": "code",
   "execution_count": 3,
   "id": "cc46e7a9",
   "metadata": {},
   "outputs": [],
   "source": [
    "## reorganizing\n",
    "distance = distance.drop(columns='Unnamed: 0')\n",
    "forecast_2018 = forecast_2018.drop(columns='Unnamed: 0')\n",
    "forecast_2019 = forecast_2019.drop(columns='Unnamed: 0')\n",
    "forecast_2018.set_index('Index',drop=True,inplace=True)\n",
    "forecast_2019.set_index('Index',drop=True,inplace=True)"
   ]
  },
  {
   "cell_type": "code",
   "execution_count": 4,
   "id": "0d36648d",
   "metadata": {},
   "outputs": [
    {
     "data": {
      "text/plain": [
       "21.5222999999999"
      ]
     },
     "execution_count": 4,
     "metadata": {},
     "output_type": "execute_result"
    }
   ],
   "source": [
    "#keys\n",
    "farm = distance.index\n",
    "farm_depot = distance.index\n",
    "depot_refinary = distance.index\n",
    "refinary = distance.index\n",
    "distance.loc[5,7]"
   ]
  },
  {
   "cell_type": "code",
   "execution_count": 5,
   "id": "2219b59f",
   "metadata": {},
   "outputs": [],
   "source": [
    "farm_depot_keys = [(f,d) for f in farm for d in farm_depot]\n",
    "depot_refinary_keys = [(d,r) for d in depot_refinary for r in refinary ]"
   ]
  },
  {
   "cell_type": "code",
   "execution_count": 6,
   "id": "dc8ad46e",
   "metadata": {},
   "outputs": [
    {
     "data": {
      "text/plain": [
       "21.5222999999999"
      ]
     },
     "execution_count": 6,
     "metadata": {},
     "output_type": "execute_result"
    }
   ],
   "source": [
    "dist_dict = {(f,d): distance.loc[f,d] for f in farm for d in farm_depot}\n",
    "dist_dict.get((5, 7))"
   ]
  },
  {
   "cell_type": "code",
   "execution_count": 7,
   "id": "667866c7",
   "metadata": {},
   "outputs": [],
   "source": [
    "# Create a CPLEX model\n",
    "model = cplex.Cplex()\n",
    "\n",
    "a = 0.001\n",
    "b = 1\n",
    "c = 1"
   ]
  },
  {
   "cell_type": "code",
   "execution_count": 8,
   "id": "48ab97e0",
   "metadata": {},
   "outputs": [
    {
     "ename": "TypeError",
     "evalue": "add() got an unexpected keyword argument 'name'",
     "output_type": "error",
     "traceback": [
      "\u001b[1;31m---------------------------------------------------------------------------\u001b[0m",
      "\u001b[1;31mTypeError\u001b[0m                                 Traceback (most recent call last)",
      "\u001b[1;32m~\\AppData\\Local\\Temp\\ipykernel_13880\\2572204143.py\u001b[0m in \u001b[0;36m<module>\u001b[1;34m\u001b[0m\n\u001b[0;32m      1\u001b[0m \u001b[1;31m# Define the variables\u001b[0m\u001b[1;33m\u001b[0m\u001b[1;33m\u001b[0m\u001b[0m\n\u001b[1;32m----> 2\u001b[1;33m \u001b[0mopen_depot\u001b[0m \u001b[1;33m=\u001b[0m \u001b[1;33m{\u001b[0m \u001b[0md\u001b[0m \u001b[1;33m:\u001b[0m \u001b[0mmodel\u001b[0m\u001b[1;33m.\u001b[0m\u001b[0mvariables\u001b[0m\u001b[1;33m.\u001b[0m\u001b[0madd\u001b[0m\u001b[1;33m(\u001b[0m\u001b[0mobj\u001b[0m\u001b[1;33m=\u001b[0m\u001b[1;36m0\u001b[0m\u001b[1;33m,\u001b[0m \u001b[0mtypes\u001b[0m\u001b[1;33m=\u001b[0m\u001b[0mmodel\u001b[0m\u001b[1;33m.\u001b[0m\u001b[0mvariables\u001b[0m\u001b[1;33m.\u001b[0m\u001b[0mtype\u001b[0m\u001b[1;33m.\u001b[0m\u001b[0mbinary\u001b[0m\u001b[1;33m,\u001b[0m \u001b[0mname\u001b[0m\u001b[1;33m=\u001b[0m\u001b[1;34mf'open_depot_{d}'\u001b[0m\u001b[1;33m)\u001b[0m  \u001b[1;32mfor\u001b[0m \u001b[0md\u001b[0m \u001b[1;32min\u001b[0m \u001b[0mfarm_depot\u001b[0m\u001b[1;33m}\u001b[0m\u001b[1;33m\u001b[0m\u001b[1;33m\u001b[0m\u001b[0m\n\u001b[0m\u001b[0;32m      3\u001b[0m \u001b[0mopen_refinary\u001b[0m \u001b[1;33m=\u001b[0m \u001b[1;33m{\u001b[0m \u001b[0md\u001b[0m \u001b[1;33m:\u001b[0m \u001b[0mmodel\u001b[0m\u001b[1;33m.\u001b[0m\u001b[0mvariables\u001b[0m\u001b[1;33m.\u001b[0m\u001b[0madd\u001b[0m\u001b[1;33m(\u001b[0m\u001b[0mobj\u001b[0m\u001b[1;33m=\u001b[0m\u001b[1;36m0\u001b[0m\u001b[1;33m,\u001b[0m \u001b[0mtypes\u001b[0m\u001b[1;33m=\u001b[0m\u001b[0mmodel\u001b[0m\u001b[1;33m.\u001b[0m\u001b[0mvariables\u001b[0m\u001b[1;33m.\u001b[0m\u001b[0mtype\u001b[0m\u001b[1;33m.\u001b[0m\u001b[0mbinary\u001b[0m\u001b[1;33m,\u001b[0m \u001b[0mname\u001b[0m\u001b[1;33m=\u001b[0m\u001b[1;34mf'open_refinary_{d}'\u001b[0m\u001b[1;33m)\u001b[0m \u001b[1;32mfor\u001b[0m \u001b[0md\u001b[0m \u001b[1;32min\u001b[0m \u001b[0mdepot_refinary\u001b[0m\u001b[1;33m}\u001b[0m\u001b[1;33m\u001b[0m\u001b[1;33m\u001b[0m\u001b[0m\n\u001b[0;32m      4\u001b[0m \u001b[0mbiomass_flows\u001b[0m \u001b[1;33m=\u001b[0m \u001b[1;33m{\u001b[0m\u001b[1;33m(\u001b[0m\u001b[0mf\u001b[0m\u001b[1;33m,\u001b[0m \u001b[0md\u001b[0m\u001b[1;33m)\u001b[0m\u001b[1;33m:\u001b[0m \u001b[0mmodel\u001b[0m\u001b[1;33m.\u001b[0m\u001b[0mvariables\u001b[0m\u001b[1;33m.\u001b[0m\u001b[0madd\u001b[0m\u001b[1;33m(\u001b[0m\u001b[0mlb\u001b[0m\u001b[1;33m=\u001b[0m\u001b[1;36m0\u001b[0m\u001b[1;33m,\u001b[0m \u001b[0mtypes\u001b[0m\u001b[1;33m=\u001b[0m\u001b[0mmodel\u001b[0m\u001b[1;33m.\u001b[0m\u001b[0mvariables\u001b[0m\u001b[1;33m.\u001b[0m\u001b[0mtype\u001b[0m\u001b[1;33m.\u001b[0m\u001b[0mcontinuous\u001b[0m\u001b[1;33m,\u001b[0m \u001b[0mname\u001b[0m\u001b[1;33m=\u001b[0m\u001b[1;34mf'biomass_flows_{f}_{d}'\u001b[0m\u001b[1;33m)\u001b[0m \u001b[1;32mfor\u001b[0m \u001b[1;33m(\u001b[0m\u001b[0mf\u001b[0m\u001b[1;33m,\u001b[0m \u001b[0md\u001b[0m\u001b[1;33m)\u001b[0m \u001b[1;32min\u001b[0m \u001b[0mfarm_depot_keys\u001b[0m\u001b[1;33m}\u001b[0m\u001b[1;33m\u001b[0m\u001b[1;33m\u001b[0m\u001b[0m\n\u001b[0;32m      5\u001b[0m \u001b[0mpellet_flows\u001b[0m \u001b[1;33m=\u001b[0m \u001b[1;33m{\u001b[0m\u001b[1;33m(\u001b[0m\u001b[0md\u001b[0m\u001b[1;33m,\u001b[0m \u001b[0mr\u001b[0m\u001b[1;33m)\u001b[0m\u001b[1;33m:\u001b[0m \u001b[0mmodel\u001b[0m\u001b[1;33m.\u001b[0m\u001b[0mvariables\u001b[0m\u001b[1;33m.\u001b[0m\u001b[0madd\u001b[0m\u001b[1;33m(\u001b[0m\u001b[0mlb\u001b[0m\u001b[1;33m=\u001b[0m\u001b[1;36m0\u001b[0m\u001b[1;33m,\u001b[0m \u001b[0mtypes\u001b[0m\u001b[1;33m=\u001b[0m\u001b[0mmodel\u001b[0m\u001b[1;33m.\u001b[0m\u001b[0mvariables\u001b[0m\u001b[1;33m.\u001b[0m\u001b[0mtype\u001b[0m\u001b[1;33m.\u001b[0m\u001b[0mcontinuous\u001b[0m\u001b[1;33m,\u001b[0m \u001b[0mname\u001b[0m\u001b[1;33m=\u001b[0m\u001b[1;34mf'pellet_flows_{d}_{r}'\u001b[0m\u001b[1;33m)\u001b[0m \u001b[1;32mfor\u001b[0m \u001b[1;33m(\u001b[0m\u001b[0md\u001b[0m\u001b[1;33m,\u001b[0m \u001b[0mr\u001b[0m\u001b[1;33m)\u001b[0m \u001b[1;32min\u001b[0m \u001b[0mdepot_refinary_keys\u001b[0m\u001b[1;33m}\u001b[0m\u001b[1;33m\u001b[0m\u001b[1;33m\u001b[0m\u001b[0m\n",
      "\u001b[1;32m~\\AppData\\Local\\Temp\\ipykernel_13880\\2572204143.py\u001b[0m in \u001b[0;36m<dictcomp>\u001b[1;34m(.0)\u001b[0m\n\u001b[0;32m      1\u001b[0m \u001b[1;31m# Define the variables\u001b[0m\u001b[1;33m\u001b[0m\u001b[1;33m\u001b[0m\u001b[0m\n\u001b[1;32m----> 2\u001b[1;33m \u001b[0mopen_depot\u001b[0m \u001b[1;33m=\u001b[0m \u001b[1;33m{\u001b[0m \u001b[0md\u001b[0m \u001b[1;33m:\u001b[0m \u001b[0mmodel\u001b[0m\u001b[1;33m.\u001b[0m\u001b[0mvariables\u001b[0m\u001b[1;33m.\u001b[0m\u001b[0madd\u001b[0m\u001b[1;33m(\u001b[0m\u001b[0mobj\u001b[0m\u001b[1;33m=\u001b[0m\u001b[1;36m0\u001b[0m\u001b[1;33m,\u001b[0m \u001b[0mtypes\u001b[0m\u001b[1;33m=\u001b[0m\u001b[0mmodel\u001b[0m\u001b[1;33m.\u001b[0m\u001b[0mvariables\u001b[0m\u001b[1;33m.\u001b[0m\u001b[0mtype\u001b[0m\u001b[1;33m.\u001b[0m\u001b[0mbinary\u001b[0m\u001b[1;33m,\u001b[0m \u001b[0mname\u001b[0m\u001b[1;33m=\u001b[0m\u001b[1;34mf'open_depot_{d}'\u001b[0m\u001b[1;33m)\u001b[0m  \u001b[1;32mfor\u001b[0m \u001b[0md\u001b[0m \u001b[1;32min\u001b[0m \u001b[0mfarm_depot\u001b[0m\u001b[1;33m}\u001b[0m\u001b[1;33m\u001b[0m\u001b[1;33m\u001b[0m\u001b[0m\n\u001b[0m\u001b[0;32m      3\u001b[0m \u001b[0mopen_refinary\u001b[0m \u001b[1;33m=\u001b[0m \u001b[1;33m{\u001b[0m \u001b[0md\u001b[0m \u001b[1;33m:\u001b[0m \u001b[0mmodel\u001b[0m\u001b[1;33m.\u001b[0m\u001b[0mvariables\u001b[0m\u001b[1;33m.\u001b[0m\u001b[0madd\u001b[0m\u001b[1;33m(\u001b[0m\u001b[0mobj\u001b[0m\u001b[1;33m=\u001b[0m\u001b[1;36m0\u001b[0m\u001b[1;33m,\u001b[0m \u001b[0mtypes\u001b[0m\u001b[1;33m=\u001b[0m\u001b[0mmodel\u001b[0m\u001b[1;33m.\u001b[0m\u001b[0mvariables\u001b[0m\u001b[1;33m.\u001b[0m\u001b[0mtype\u001b[0m\u001b[1;33m.\u001b[0m\u001b[0mbinary\u001b[0m\u001b[1;33m,\u001b[0m \u001b[0mname\u001b[0m\u001b[1;33m=\u001b[0m\u001b[1;34mf'open_refinary_{d}'\u001b[0m\u001b[1;33m)\u001b[0m \u001b[1;32mfor\u001b[0m \u001b[0md\u001b[0m \u001b[1;32min\u001b[0m \u001b[0mdepot_refinary\u001b[0m\u001b[1;33m}\u001b[0m\u001b[1;33m\u001b[0m\u001b[1;33m\u001b[0m\u001b[0m\n\u001b[0;32m      4\u001b[0m \u001b[0mbiomass_flows\u001b[0m \u001b[1;33m=\u001b[0m \u001b[1;33m{\u001b[0m\u001b[1;33m(\u001b[0m\u001b[0mf\u001b[0m\u001b[1;33m,\u001b[0m \u001b[0md\u001b[0m\u001b[1;33m)\u001b[0m\u001b[1;33m:\u001b[0m \u001b[0mmodel\u001b[0m\u001b[1;33m.\u001b[0m\u001b[0mvariables\u001b[0m\u001b[1;33m.\u001b[0m\u001b[0madd\u001b[0m\u001b[1;33m(\u001b[0m\u001b[0mlb\u001b[0m\u001b[1;33m=\u001b[0m\u001b[1;36m0\u001b[0m\u001b[1;33m,\u001b[0m \u001b[0mtypes\u001b[0m\u001b[1;33m=\u001b[0m\u001b[0mmodel\u001b[0m\u001b[1;33m.\u001b[0m\u001b[0mvariables\u001b[0m\u001b[1;33m.\u001b[0m\u001b[0mtype\u001b[0m\u001b[1;33m.\u001b[0m\u001b[0mcontinuous\u001b[0m\u001b[1;33m,\u001b[0m \u001b[0mname\u001b[0m\u001b[1;33m=\u001b[0m\u001b[1;34mf'biomass_flows_{f}_{d}'\u001b[0m\u001b[1;33m)\u001b[0m \u001b[1;32mfor\u001b[0m \u001b[1;33m(\u001b[0m\u001b[0mf\u001b[0m\u001b[1;33m,\u001b[0m \u001b[0md\u001b[0m\u001b[1;33m)\u001b[0m \u001b[1;32min\u001b[0m \u001b[0mfarm_depot_keys\u001b[0m\u001b[1;33m}\u001b[0m\u001b[1;33m\u001b[0m\u001b[1;33m\u001b[0m\u001b[0m\n\u001b[0;32m      5\u001b[0m \u001b[0mpellet_flows\u001b[0m \u001b[1;33m=\u001b[0m \u001b[1;33m{\u001b[0m\u001b[1;33m(\u001b[0m\u001b[0md\u001b[0m\u001b[1;33m,\u001b[0m \u001b[0mr\u001b[0m\u001b[1;33m)\u001b[0m\u001b[1;33m:\u001b[0m \u001b[0mmodel\u001b[0m\u001b[1;33m.\u001b[0m\u001b[0mvariables\u001b[0m\u001b[1;33m.\u001b[0m\u001b[0madd\u001b[0m\u001b[1;33m(\u001b[0m\u001b[0mlb\u001b[0m\u001b[1;33m=\u001b[0m\u001b[1;36m0\u001b[0m\u001b[1;33m,\u001b[0m \u001b[0mtypes\u001b[0m\u001b[1;33m=\u001b[0m\u001b[0mmodel\u001b[0m\u001b[1;33m.\u001b[0m\u001b[0mvariables\u001b[0m\u001b[1;33m.\u001b[0m\u001b[0mtype\u001b[0m\u001b[1;33m.\u001b[0m\u001b[0mcontinuous\u001b[0m\u001b[1;33m,\u001b[0m \u001b[0mname\u001b[0m\u001b[1;33m=\u001b[0m\u001b[1;34mf'pellet_flows_{d}_{r}'\u001b[0m\u001b[1;33m)\u001b[0m \u001b[1;32mfor\u001b[0m \u001b[1;33m(\u001b[0m\u001b[0md\u001b[0m\u001b[1;33m,\u001b[0m \u001b[0mr\u001b[0m\u001b[1;33m)\u001b[0m \u001b[1;32min\u001b[0m \u001b[0mdepot_refinary_keys\u001b[0m\u001b[1;33m}\u001b[0m\u001b[1;33m\u001b[0m\u001b[1;33m\u001b[0m\u001b[0m\n",
      "\u001b[1;31mTypeError\u001b[0m: add() got an unexpected keyword argument 'name'"
     ]
    }
   ],
   "source": [
    "# Define the variables\n",
    "open_depot = { d : model.variables.add(obj=0, types=model.variables.type.binary, names=f'open_depot_{d}')  for d in farm_depot}\n",
    "open_refinary = { d : model.variables.add(obj=0, types=model.variables.type.binary, names=f'open_refinary_{d}') for d in depot_refinary}\n",
    "biomass_flows = {(f, d): model.variables.add(lb=0, types=model.variables.type.continuous, name=f'biomass_flows_{f}_{d}') for (f, d) in farm_depot_keys}\n",
    "pellet_flows = {(d, r): model.variables.add(lb=0, types=model.variables.type.continuous, name=f'pellet_flows_{d}_{r}') for (d, r) in depot_refinary_keys}"
   ]
  },
  {
   "cell_type": "code",
   "execution_count": null,
   "id": "f4a78ad1",
   "metadata": {},
   "outputs": [],
   "source": [
    "# Set the objective function\n",
    "Transport_cost_biomass = cplex.SparsePair(ind=[biomass_flows[(f, d)] for f in farm for d in farm_depot],\n",
    "                                          val=[a * dist_dict[(f, d)] for f in farm for d in farm_depot])\n",
    "Transport_cost_pellet = cplex.SparsePair(ind=[pellet_flows[(d, r)] for d in depot_refinary for r in refinary],\n",
    "                                         val=[a * dist_dict[(d, r)] for d in depot_refinary for r in refinary])\n",
    "Underutilization_cost_biomass = cplex.SparsePair(ind=[open_depot[d] for d in farm_depot],\n",
    "                                                 val=[200.0 for _ in farm_depot])\n",
    "Underutilization_cost_pellet = cplex.SparsePair(ind=[open_refinary[d] for d in depot_refinary],\n",
    "                                                val=[700.0 for _ in depot_refinary])\n",
    "cost_forecast = forecast_2018['mae'].sum()"
   ]
  },
  {
   "cell_type": "code",
   "execution_count": null,
   "id": "6b817a5a",
   "metadata": {},
   "outputs": [],
   "source": [
    "model.objective.set_sense(model.objective.sense.minimize)\n",
    "model.objective.set_linear(list(Transport_cost_biomass.ind) + list(Transport_cost_pellet.ind) +\n",
    "                           list(Underutilization_cost_biomass.ind) + list(Underutilization_cost_pellet.ind),\n",
    "                           list(Transport_cost_biomass.val) + list(Transport_cost_pellet.val) +\n",
    "                           list(Underutilization_cost_biomass.val) + list(Underutilization_cost_pellet.val))\n",
    "model.objective.set_offset(cost_forecast)"
   ]
  },
  {
   "cell_type": "code",
   "execution_count": null,
   "id": "99d70b9d",
   "metadata": {},
   "outputs": [],
   "source": [
    "# Add constraints\n",
    "for f in farm:\n",
    "    for d in farm_depot:\n",
    "        model.linear_constraints.add(lin_expr=[cplex.SparsePair(ind=[biomass_flows[(f,d)]], val=[1.0])],\n",
    "                                     senses=[\"G\"], rhs=[0.0], names=[f'bio_flow_{f}_{d}'])\n",
    "\n",
    "for d in depot_refinary:\n",
    "    for r in refinary:\n",
    "        model.linear_constraints.add(lin_expr=[cplex.SparsePair(ind=[pellet_flows[(d, r)]], val=[1.0])],\n",
    "                                     senses=[\"G\"], rhs=[0.0], names=[f'pel_flow_{d}_{r}'])"
   ]
  },
  {
   "cell_type": "code",
   "execution_count": null,
   "id": "4986f722",
   "metadata": {},
   "outputs": [],
   "source": [
    "for d in farm_depot:\n",
    "    model.linear_constraints.add(lin_expr=[cplex.SparsePair(ind=[biomass_flows[(f, d)] for f in farm], val=[1.0] * len(farm))],\n",
    "                                 senses=[\"L\"], rhs=[200.0], names=[f'depot_{d}_limit'])\n",
    "for r in refinary:\n",
    "    model.linear_constraints.add(lin_expr=[cplex.SparsePair(ind=[pellet_flows[(d, r)] for d in depot_refinary], val=[1.0] * len(depot_refinary))],\n",
    "                                 senses=[\"L\"], rhs=[700.0], names=[f'refinery_{r}_limit'])"
   ]
  },
  {
   "cell_type": "code",
   "execution_count": null,
   "id": "9ebf43b3",
   "metadata": {},
   "outputs": [],
   "source": [
    "model.linear_constraints.add(lin_expr=[cplex.SparsePair(ind=[open_depot[d] for d in farm_depot], val=[1.0 for _ in farm_depot])],\n",
    "                             senses=[\"G\"], rhs=[15.0], names=['depot_limit_lower'])\n",
    "model.linear_constraints.add(lin_expr=[cplex.SparsePair(ind=[open_refinary[d] for d in depot_refinary], val=[1.0 for _ in depot_refinary])],\n",
    "                             senses=[\"G\"], rhs=[2.0], names=['refinery_limit_lower'])\n",
    "\n",
    "model.linear_constraints.add(lin_expr=[cplex.SparsePair(ind=[open_depot[d] for d in farm_depot], val=[1.0 for _ in farm_depot])],\n",
    "                             senses=[\"L\"], rhs=[20.0], names=['depot_limit_upper'])\n",
    "model.linear_constraints.add(lin_expr=[cplex.SparsePair(ind=[open_refinary[d] for d in depot_refinary], val=[1.0 for _ in depot_refinary])],\n",
    "                             senses=[\"L\"], rhs=[5.0], names=['refinery_limit_upper'])"
   ]
  },
  {
   "cell_type": "code",
   "execution_count": null,
   "id": "f85aa320",
   "metadata": {},
   "outputs": [],
   "source": [
    "for f in farm:\n",
    "    model.linear_constraints.add(lin_expr=[cplex.SparsePair(ind=[open_depot[d] * biomass_flows[(f, d)] for d in farm_depot], val=[1.0 for _ in farm_depot])],\n",
    "                                 senses=[\"G\"], rhs=[0.8 * forecast_2018['forecast'].loc[f]], names=[f'farm_{f}_lower_limit'])\n",
    "\n",
    "for f in farm:\n",
    "    model.linear_constraints.add(lin_expr=[cplex.SparsePair(ind=[biomass_flows[(f, d)] for d in farm_depot], val=[1.0 for _ in farm_depot])],\n",
    "                                 senses=[\"L\"], rhs=[forecast_2018['forecast'].loc[f]], names=[f'farm_{f}_upper_limit'])\n",
    "\n",
    "for f in farm:\n",
    "    for d in farm_depot:\n",
    "        model.linear_constraints.add(lin_expr=[cplex.SparsePair(ind=[biomass_flows[(f, d)], open_depot[d]], val=[-forecast_2018['forecast'].loc[f], forecast_2018['forecast'].loc[f]])],\n",
    "                                     senses=[\"L\", \"G\"], rhs=[0.0, 0.0], names=[f'link_{f}_{d}_bio'])\n"
   ]
  },
  {
   "cell_type": "code",
   "execution_count": null,
   "id": "de575ec3",
   "metadata": {},
   "outputs": [],
   "source": [
    "for d in farm_depot:\n",
    "    model.linear_constraints.add(lin_expr=[cplex.SparsePair(ind=[biomass_flows[(f, d)] for f in farm] + [pellet_flows[(d, r)] for r in refinary],\n",
    "                                                             val=[1.0 for _ in farm] + [-open_refinary[d] for _ in refinary])],\n",
    "                                 senses=[\"E\"], rhs=[0.0], names=[f'balance_depot_{d}'])\n"
   ]
  },
  {
   "cell_type": "code",
   "execution_count": null,
   "id": "d7676162",
   "metadata": {},
   "outputs": [],
   "source": [
    "model.linear_constraints.add(lin_expr=[cplex.SparsePair(ind=[biomass_flows[(f, d)] for f in farm for d in farm_depot] + [pellet_flows[(d, r)] for d in depot_refinary for r in refinary],\n",
    "                                                         val=[1.0 for _ in farm for _ in farm_depot] + [-1.0 for _ in depot_refinary for _ in refinary])],\n",
    "                             senses=[\"E\"], rhs=[0.0], names=['balance'])"
   ]
  },
  {
   "cell_type": "code",
   "execution_count": null,
   "id": "0eacbd70",
   "metadata": {},
   "outputs": [],
   "source": [
    "for d in farm_depot:\n",
    "    model.linear_constraints.add(lin_expr=[cplex.SparsePair(ind=[open_depot[d], open_refinary[d]], val=[1.0, 1.0])],\n",
    "                                 senses=[\"L\"], rhs=[1.0], names=[f'one_depot_{d}'])"
   ]
  },
  {
   "cell_type": "code",
   "execution_count": null,
   "id": "1eda81c6",
   "metadata": {},
   "outputs": [],
   "source": [
    "# Set CPLEX parameters\n",
    "model.parameters.mip.tolerances.mipgap.set(0.0)\n",
    "model.parameters.timelimit.set(1800)\n",
    "model.parameters.emphasis.mip.set(2)\n"
   ]
  },
  {
   "cell_type": "code",
   "execution_count": null,
   "id": "4cc409a8",
   "metadata": {},
   "outputs": [],
   "source": [
    "# Optimize the model\n",
    "model.solve()\n"
   ]
  },
  {
   "cell_type": "code",
   "execution_count": null,
   "id": "ff4f2346",
   "metadata": {},
   "outputs": [],
   "source": [
    "# Get the optimization status\n",
    "status = model.solution.get_status()\n",
    "if status == cplex.solution.status.optimal:\n",
    "    print(\"Optimal solution found.\")\n",
    "    # Get the objective value\n",
    "    obj_value = model.solution.get_objective_value()\n",
    "    print(\"Objective value:\", obj_value)\n",
    "    # Get the variable values\n",
    "    open_depot_values = model.solution.get_values(open_depot.values())\n",
    "    open_refinary_values = model.solution.get_values(open_refinary.values())\n",
    "    biomass_flows_values = model.solution.get_values(biomass_flows.values())\n",
    "    pellet_flows_values = model.solution.get_values(pellet_flows.values())\n",
    "    # Print or use the variable values as needed\n",
    "else:\n",
    "    print(\"Optimization did not converge to an optimal solution.\")"
   ]
  }
 ],
 "metadata": {
  "kernelspec": {
   "display_name": "Python 3 (ipykernel)",
   "language": "python",
   "name": "python3"
  },
  "language_info": {
   "codemirror_mode": {
    "name": "ipython",
    "version": 3
   },
   "file_extension": ".py",
   "mimetype": "text/x-python",
   "name": "python",
   "nbconvert_exporter": "python",
   "pygments_lexer": "ipython3",
   "version": "3.9.13"
  }
 },
 "nbformat": 4,
 "nbformat_minor": 5
}
